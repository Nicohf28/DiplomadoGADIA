{
  "nbformat": 4,
  "nbformat_minor": 0,
  "metadata": {
    "colab": {
      "provenance": [],
      "authorship_tag": "ABX9TyPIMZDCEkg1TocuC+5uZJ3n",
      "include_colab_link": true
    },
    "kernelspec": {
      "name": "python3",
      "display_name": "Python 3"
    },
    "language_info": {
      "name": "python"
    }
  },
  "cells": [
    {
      "cell_type": "markdown",
      "metadata": {
        "id": "view-in-github",
        "colab_type": "text"
      },
      "source": [
        "<a href=\"https://colab.research.google.com/github/Nicohf28/DiplomadoGADIA/blob/main/Funciones%2C_condicionales_y_errores.ipynb\" target=\"_parent\"><img src=\"https://colab.research.google.com/assets/colab-badge.svg\" alt=\"Open In Colab\"/></a>"
      ]
    },
    {
      "cell_type": "markdown",
      "source": [
        "**Condicionales, funciones y manejo de errores.**\n",
        "\n",
        "Diplomado en Gobierno y Analítica de Datos para Toma de decisiones Basado en Inteligencia Artificial\n",
        "\n",
        "Fundación Universitaria Cafam\n",
        "\n",
        "Docente: Nicolás Mojica Gómez\n",
        "\n",
        "Estudiante: Nicolás Hernández Flórez"
      ],
      "metadata": {
        "id": "k0Biin29bKQU"
      }
    },
    {
      "cell_type": "markdown",
      "source": [
        "## 1. Condicionales."
      ],
      "metadata": {
        "id": "hYqj-9cktANU"
      }
    },
    {
      "cell_type": "code",
      "source": [
        "# Las condicionales en python permiten tomar decisiones en el código basadas en ciertas condiciones.\n",
        "# Son fundamentales para controlar el flujo de ejecución.\n",
        "\n",
        "edad = 18\n",
        "# Ej. Crear una condicional que identifique si la persona es menor o mayor de edad.\n",
        "\n",
        "if edad < 18:\n",
        "  print(\"Eres menor de edad. \")\n",
        "else:\n",
        "  print(\"Eres mayor de edad. \")"
      ],
      "metadata": {
        "colab": {
          "base_uri": "https://localhost:8080/"
        },
        "id": "tp_AQO0NbINZ",
        "outputId": "7b7860bf-51ab-4e45-bd24-6c9fdd749a26"
      },
      "execution_count": null,
      "outputs": [
        {
          "output_type": "stream",
          "name": "stdout",
          "text": [
            "Eres mayor de edad. \n"
          ]
        }
      ]
    },
    {
      "cell_type": "code",
      "source": [
        "# Generar una programa que clasifique la edad introducida por el usuario entre mayor y menor de edad.\n",
        "edad = int(input(\"-> Por favor, ingrese su edad: \"))\n",
        "\n",
        "if edad < 18:\n",
        "  print(\"Eres menor de edad. \")\n",
        "else:\n",
        "  print(\"// Eres mayor de edad. \")"
      ],
      "metadata": {
        "colab": {
          "base_uri": "https://localhost:8080/"
        },
        "id": "3JlIXVHUcsTi",
        "outputId": "69a0e552-0b6a-4920-ff7c-9a61afab4575"
      },
      "execution_count": null,
      "outputs": [
        {
          "output_type": "stream",
          "name": "stdout",
          "text": [
            "-> Por favor, ingrese su edad: 19\n",
            "Eres mayor de edad. \n"
          ]
        }
      ]
    },
    {
      "cell_type": "code",
      "source": [
        "# Construya un programa que al ingresar la nota del usuario lo clasifique en:\n",
        "#     - No aprobado, si la nota es menor a 60.\n",
        "#     - Clasificación A, si la nota es mayor o igual a 90.\n",
        "#     - Clasificación B, si la nota es menor o igual a 80.\n",
        "#     - Clasificación C, si no esta en ninguna de las anteriores.\n",
        "\n",
        "nota = int(input(\"-> Ingrese la nota del usuario: \"))\n",
        "if nota >= 60:\n",
        "  if nota >= 90:\n",
        "    print(\"// Clasificación A. \")\n",
        "  elif nota == 80:\n",
        "    print(\"// Clasificación B. \")\n",
        "  else:\n",
        "    print(\"// Clasificiación C. \")\n",
        "else:\n",
        "  print(\"// No aprobado. \")"
      ],
      "metadata": {
        "colab": {
          "base_uri": "https://localhost:8080/"
        },
        "id": "tnJ7fAOedhfK",
        "outputId": "c0302351-7a7d-4bd3-c20e-41c22433de41"
      },
      "execution_count": null,
      "outputs": [
        {
          "output_type": "stream",
          "name": "stdout",
          "text": [
            "-> Ingrese la nota del usuario: 55\n",
            "// No aprobado. \n"
          ]
        }
      ]
    },
    {
      "cell_type": "code",
      "source": [
        "\"\"\"\n",
        "Comparaciones\n",
        "Las condiciones en las sentencias condicionales suelen involucrar operadores de comparación:\n",
        "\n",
        "- == (igual a)\n",
        "- != (diferente de)\n",
        "- > (mayor que)\n",
        "- < (menor que)\n",
        "- >= (mayor o igual que)\n",
        "- <= (menor o igual que)\n",
        "\"\"\""
      ],
      "metadata": {
        "colab": {
          "base_uri": "https://localhost:8080/",
          "height": 53
        },
        "id": "38mMcmShhLXP",
        "outputId": "a9e02e10-10ad-4008-e104-84676ebce2e8"
      },
      "execution_count": null,
      "outputs": [
        {
          "output_type": "execute_result",
          "data": {
            "text/plain": [
              "'\\nComparaciones\\nLas condiciones en las sentencias condicionales suelen involucrar operadores de comparación:\\n \\n- == (igual a)\\n- != (diferente de)\\n- > (mayor que)\\n- < (menor que)\\n- >= (mayor o igual que)\\n- <= (menor o igual que)\\n'"
            ],
            "application/vnd.google.colaboratory.intrinsic+json": {
              "type": "string"
            }
          },
          "metadata": {},
          "execution_count": 7
        }
      ]
    },
    {
      "cell_type": "code",
      "source": [
        "\"\"\"\n",
        "Escribe un programa que verifique si un número ingresado por el usuario es par o impar.\n",
        "\"\"\"\n",
        "# Positiva.\n",
        "num = int(input(\"-> Ingrese un número: \"))\n",
        "if num%2 == 0:\n",
        "  print(\"// El número ingresado es par. \")\n",
        "else:\n",
        "  print(\"// El número ingresado es impar. \")\n",
        "\n",
        "# Negativa.\n",
        "  num = int(input(\"-> Ingrese un número: \"))\n",
        "if num%2 != 0:\n",
        "  print(\"// El número ingresado es impar. \")\n",
        "else:\n",
        "  print(\"// El número ingresado es par. \")"
      ],
      "metadata": {
        "colab": {
          "base_uri": "https://localhost:8080/"
        },
        "id": "wAiaGYsjilsQ",
        "outputId": "f5b3ca17-7ab7-4517-afd4-bf0b38e61dbb"
      },
      "execution_count": null,
      "outputs": [
        {
          "output_type": "stream",
          "name": "stdout",
          "text": [
            "-> Ingrese un número: 7\n",
            "// El número ingresado es impar. \n"
          ]
        }
      ]
    },
    {
      "cell_type": "code",
      "source": [
        "\"\"\"\n",
        "Crea un programa que lea dos números y determine cuál es mayor, cuál es menor o si ambos son iguales.\n",
        "\"\"\"\n",
        "\n",
        "num1 = int(input(\"-> Ingrese el primer número: \"))\n",
        "num2 = int(input(\"-> Ingrese el segundo número: \"))\n",
        "\n",
        "if num1 != num2:\n",
        "\n",
        "  if num1 > num2:\n",
        "    print(\"// El primer número es mayor que el segundo. Es decir, el segundo número es menor que el primero. \")\n",
        "  else:\n",
        "    print(\"// El segundo número es mayor que el primero. Es decir, el primer número es menor que el segundo. \")\n",
        "\n",
        "else:\n",
        "  print(\"// Los dos números son iguales. \")"
      ],
      "metadata": {
        "colab": {
          "base_uri": "https://localhost:8080/"
        },
        "id": "B9JPFkcVi3fS",
        "outputId": "571e36d4-243e-4468-ce73-a456e4d5d061"
      },
      "execution_count": null,
      "outputs": [
        {
          "output_type": "stream",
          "name": "stdout",
          "text": [
            "-> Ingrese el primer número: 80\n",
            "-> Ingrese el segundo número: 79\n",
            "// El primer número es mayor que el segundo. Es decir, el segundo número es menor que el primero. \n"
          ]
        }
      ]
    },
    {
      "cell_type": "code",
      "source": [
        "# Formato.\n",
        "num1 = int(input(\"-> Ingrese el primer número: \"))\n",
        "num2 = int(input(\"-> Ingrese el segundo número: \"))\n",
        "\n",
        "if num1 != num2:\n",
        "\n",
        "  if num1 > num2:\n",
        "    print(f\"// El número mayor es: {num1}\")\n",
        "  else:\n",
        "    print(f\"// El número mayor es: {num2} \")\n",
        "\n",
        "else:\n",
        "  print(f\"// Ambos números ingresados son el mismo: {num1}.\")"
      ],
      "metadata": {
        "colab": {
          "base_uri": "https://localhost:8080/"
        },
        "id": "wpyIDBZpkG-e",
        "outputId": "80ba144b-da62-497e-d85a-c026efc5e282"
      },
      "execution_count": null,
      "outputs": [
        {
          "output_type": "stream",
          "name": "stdout",
          "text": [
            "-> Ingrese el primer número: 1\n",
            "-> Ingrese el segundo número: 1\n",
            "// Ambos números ingresados son el mismo: 1.\n"
          ]
        }
      ]
    },
    {
      "cell_type": "code",
      "source": [
        "\"\"\"\n",
        "Escribe un programa que clasifique la edad en diferentes categorías:\n",
        "    - Niño (0-12 años)\n",
        "    - Adolescente (13-17 años)\n",
        "    - Adulto (18-64 años)\n",
        "    - Anciano (65 años o más).\n",
        "\"\"\"\n",
        "# 0 años, puede ser un bebé de meses.\n",
        "\n",
        "edad = int(input(\"-> Ingrese su edad: \"))\n",
        "\n",
        "if edad >= 0:\n",
        "\n",
        "  if edad>=0 and edad<=12:\n",
        "    print(f\"// Usted tiene {edad}. Por tanto, es un niño. \")\n",
        "\n",
        "  elif edad>=13 and edad<=17:\n",
        "    print(f\"// Usted tiene {edad}. Por tanto, es un adolescente. \")\n",
        "\n",
        "  elif edad>=18 and edad<=64:\n",
        "    print(f\"// Usted tiene {edad}. Por tanto, es un adulto. \")\n",
        "\n",
        "  elif edad>64:\n",
        "    print(f\"// Usted tiene {edad}. Por tanto, es un adulto. \")\n",
        "\n",
        "else:\n",
        "  print(\"// La edad ingresada no puede ser negativa. \")"
      ],
      "metadata": {
        "colab": {
          "base_uri": "https://localhost:8080/"
        },
        "id": "YZuPVeU1qMLz",
        "outputId": "bfd5c4bf-681f-4bf2-8b5a-f247f9e19a26"
      },
      "execution_count": null,
      "outputs": [
        {
          "output_type": "stream",
          "name": "stdout",
          "text": [
            "-> Ingrese su edad: 19\n",
            "// Usted tiene 19. Por tanto, es un adulto. \n"
          ]
        }
      ]
    },
    {
      "cell_type": "markdown",
      "source": [
        "## 2. Funciones.\n",
        "Las funciones son bloques de código en Python que se pueden reutilizar para ejecutar una tarea en específico."
      ],
      "metadata": {
        "id": "1UqHRKEWtCo9"
      }
    },
    {
      "cell_type": "code",
      "source": [
        "# Tengo la función lineal y = mx + b,\n",
        "# y quiero evaluar el valor de x = 5 en la función y=4x+7\n",
        "\n",
        "def funcion_lineal(x):\n",
        "  y = (4*x)+7\n",
        "  return y\n",
        "\n",
        "x_ingresada = int(input(\"-> Ingrese un valor entero para x: \"))\n",
        "y_evaluada = funcion_lineal(x_ingresada)\n",
        "\n",
        "print(f\"// El valor de y evaluada con x = {x_ingresada} es igual a: {y_evaluada}\")"
      ],
      "metadata": {
        "colab": {
          "base_uri": "https://localhost:8080/"
        },
        "id": "-JftI-aDrkt-",
        "outputId": "910568ee-d615-41d0-ca2d-c97eb92d04fa"
      },
      "execution_count": null,
      "outputs": [
        {
          "output_type": "stream",
          "name": "stdout",
          "text": [
            "-> Ingrese un valor entero para x: 5\n",
            "// El valor de y evaluada con x = 5 es igual a: 27\n"
          ]
        }
      ]
    },
    {
      "cell_type": "code",
      "source": [
        "# No dinámica.\n",
        "\n",
        "def funcion_lineal(x):\n",
        "  y = (4*x)+7\n",
        "  return y\n",
        "\n",
        "y_evaluada = funcion_lineal(5)\n",
        "\n",
        "print(f\"// El valor de y evaluada con x = 5 es igual a: {y_evaluada}\")"
      ],
      "metadata": {
        "colab": {
          "base_uri": "https://localhost:8080/"
        },
        "id": "WVUmyrI8vYp4",
        "outputId": "63434613-159d-4b31-b28b-a5104fcd3a90"
      },
      "execution_count": null,
      "outputs": [
        {
          "output_type": "stream",
          "name": "stdout",
          "text": [
            "// El valor de y evaluada con x = 5 es igual a: 27\n"
          ]
        }
      ]
    },
    {
      "cell_type": "code",
      "source": [
        "# Retornando mensaje, declarando variable.\n",
        "\n",
        "def funcion_lineal(x):\n",
        "  y = (4*x)+7\n",
        "  return f\"// El valor de y evaluada con x = 5 es igual a: {y}\"\n",
        "\n",
        "print(funcion_lineal(5))"
      ],
      "metadata": {
        "colab": {
          "base_uri": "https://localhost:8080/"
        },
        "id": "jIXw2F8jwZxI",
        "outputId": "eb84be5c-776a-46e8-e886-6fea116ee4ca"
      },
      "execution_count": null,
      "outputs": [
        {
          "output_type": "stream",
          "name": "stdout",
          "text": [
            "// El valor de y evaluada con x = 5 es igual a: 27\n"
          ]
        }
      ]
    },
    {
      "cell_type": "code",
      "source": [
        "# Retornando mensaje, sin declarar variable.\n",
        "\n",
        "def funcion_lineal(x):\n",
        "  return f\"// El valor de y evaluada con x = 5 es igual a: {(4*x)+7}\"\n",
        "\n",
        "print(funcion_lineal(5))"
      ],
      "metadata": {
        "colab": {
          "base_uri": "https://localhost:8080/"
        },
        "id": "y-BBnPSSzHiN",
        "outputId": "52731c12-b897-4aa3-876b-be7db23f95b2"
      },
      "execution_count": null,
      "outputs": [
        {
          "output_type": "stream",
          "name": "stdout",
          "text": [
            "// El valor de y evaluada con x = 5 es igual a: 27\n"
          ]
        }
      ]
    },
    {
      "cell_type": "code",
      "source": [
        "# Proceso.\n",
        "\n",
        "def funcion_lineal(x):\n",
        "  y = (4*x)+7\n",
        "  print(f\"// El valor de y evaluada con x = 5 es igual a: {y}\")\n",
        "\n",
        "funcion_lineal(5)"
      ],
      "metadata": {
        "colab": {
          "base_uri": "https://localhost:8080/"
        },
        "id": "tVRjgrR5xClD",
        "outputId": "ff530b57-a8b5-46c7-d1b2-02149905e8bc"
      },
      "execution_count": null,
      "outputs": [
        {
          "output_type": "stream",
          "name": "stdout",
          "text": [
            "// El valor de y evaluada con x = 5 es igual a: 27\n"
          ]
        }
      ]
    },
    {
      "cell_type": "code",
      "source": [
        "def suma(a, b):\n",
        "  return a+b\n",
        "\n",
        "print(suma(2,2))"
      ],
      "metadata": {
        "colab": {
          "base_uri": "https://localhost:8080/"
        },
        "id": "fvb4LsQmzY-g",
        "outputId": "0af00b82-e115-43c3-db1f-dd0f93b357c9"
      },
      "execution_count": null,
      "outputs": [
        {
          "output_type": "stream",
          "name": "stdout",
          "text": [
            "4\n"
          ]
        }
      ]
    },
    {
      "cell_type": "code",
      "source": [
        "\"\"\"\n",
        "Escribe una función que reciba la edad de una persona como parámetro y determine si la persona es mayor de edad (18 años o más) o menor de edad.\n",
        "\"\"\"\n",
        "\n",
        "#1.\n",
        "def mayorDeEdad(edad):\n",
        "  if edad >= 0:\n",
        "\n",
        "    if edad<18:\n",
        "      return \"// Usted es menor de edad. \"\n",
        "    else:\n",
        "      return \"// Usted es mayor de edad. \"\n",
        "\n",
        "  else:\n",
        "    return \"// La edad no puede ser mayor a 0. \"\n",
        "\n",
        "edad_ingresada = int(input(\"-> Ingrese su edad: \"))\n",
        "print(mayorDeEdad(edad_ingresada))"
      ],
      "metadata": {
        "colab": {
          "base_uri": "https://localhost:8080/"
        },
        "id": "x7RYjhICzpG1",
        "outputId": "659ec506-26ee-4aea-f3d0-d5d0f2f8bb67"
      },
      "execution_count": null,
      "outputs": [
        {
          "output_type": "stream",
          "name": "stdout",
          "text": [
            "-> Ingrese su edad: 65\n",
            "// Usted es mayor de edad. \n"
          ]
        }
      ]
    },
    {
      "cell_type": "code",
      "source": [
        "# 2.\n",
        "def mayorDeEdad(edad):\n",
        "  if edad >= 0:\n",
        "\n",
        "    if edad<18:\n",
        "      print(\"// Usted es menor de edad. \")\n",
        "    else:\n",
        "      print(\"// Usted es mayor de edad. \")\n",
        "\n",
        "  else:\n",
        "    print(\"// La edad no puede ser mayor a 0. \")\n",
        "\n",
        "edad_ingresada = int(input(\"-> Ingrese su edad: \"))\n",
        "mayorDeEdad(edad_ingresada)"
      ],
      "metadata": {
        "colab": {
          "base_uri": "https://localhost:8080/"
        },
        "id": "J_ucdrhS1B7R",
        "outputId": "352795ea-339c-407f-90ac-2b49d18dcd88"
      },
      "execution_count": null,
      "outputs": [
        {
          "output_type": "stream",
          "name": "stdout",
          "text": [
            "-> Ingrese su edad: 50\n",
            "// Usted es mayor de edad. \n"
          ]
        }
      ]
    },
    {
      "cell_type": "code",
      "source": [
        "# Defina una funcion que al ingresar su nombre lo salude.\n",
        "\n",
        "def saludo():\n",
        "  nombre = input(\"-> Ingrese su nombre: \")\n",
        "  return f\"Hola, {nombre}!\"\n",
        "\n",
        "print(saludo())"
      ],
      "metadata": {
        "colab": {
          "base_uri": "https://localhost:8080/"
        },
        "id": "nQI-ej-3OhMu",
        "outputId": "0ecfbbaa-5796-488a-8e73-56581124fc39"
      },
      "execution_count": 2,
      "outputs": [
        {
          "output_type": "stream",
          "name": "stdout",
          "text": [
            "-> Ingrese su nombre: Nico\n",
            "Hola, Nico!\n"
          ]
        }
      ]
    },
    {
      "cell_type": "code",
      "source": [
        "# Defina una funcion que al ingresar su nombre lo salude y determine si ud es mayor o menor de edad.\n",
        "\n",
        "def saludo():\n",
        "  nombre = input(\"-> Ingrese su nombre: \")\n",
        "  edad = int(input(\"-> Ingrese su edad: \"))\n",
        "  TipoEdad = \"\"\n",
        "\n",
        "  if edad >= 0:\n",
        "\n",
        "    if edad<18:\n",
        "      TipoEdad = \"Menor\"\n",
        "    else:\n",
        "      TipoEdad = \"Mayor\"\n",
        "\n",
        "  else:\n",
        "    print(\"// La edad no puede ser mayor a 0. \")\n",
        "    TipoEdad = \"[Edad ingresada inválida]\"\n",
        "\n",
        "  return f\"Hola, {nombre}! Usted es {TipoEdad} de edad.\"\n",
        "\n",
        "print(saludo())"
      ],
      "metadata": {
        "colab": {
          "base_uri": "https://localhost:8080/"
        },
        "id": "Ghc-0xGNO9cu",
        "outputId": "d30e5a9f-d092-425c-ee54-e30dfb422719"
      },
      "execution_count": 7,
      "outputs": [
        {
          "output_type": "stream",
          "name": "stdout",
          "text": [
            "-> Ingrese su nombre: Nico\n",
            "-> Ingrese su edad: 19\n",
            "Hola, Nico! Usted es Mayor de edad.\n"
          ]
        }
      ]
    },
    {
      "cell_type": "code",
      "source": [
        "# Recorte.\n",
        "def saludo_edad(nombre, edad):\n",
        "  if edad >= 0:\n",
        "    if edad<18 :\n",
        "      print(f\"¡Hola, {nombre}! Eres menor de edad.\")\n",
        "    else:\n",
        "      print(f\"¡Hola, {nombre}! Eres mayor de edad.\")\n",
        "  else:\n",
        "    print(\"La edad ingresada no es válida. \")\n",
        "\n",
        "saludo_edad(\n",
        "    input(\"-> Ingrese su nombre :\"),\n",
        "    int(input(\"-> Ingrese su edad: \"))\n",
        ")"
      ],
      "metadata": {
        "colab": {
          "base_uri": "https://localhost:8080/"
        },
        "id": "4Z_si5SrQvlh",
        "outputId": "eca72bba-fbd5-469c-d1a5-abd635177b68"
      },
      "execution_count": 9,
      "outputs": [
        {
          "output_type": "stream",
          "name": "stdout",
          "text": [
            "-> Ingrese su nombre :Nico\n",
            "-> Ingrese su edad: 19\n",
            "¡Hola, Nico! Eres mayor de edad.\n"
          ]
        }
      ]
    },
    {
      "cell_type": "code",
      "source": [
        "\"\"\"\n",
        "Escribe una función que tome una contraseña y la verifique contra una contraseña predeterminada (\"secreta123\").\n",
        "La función debe devolver si la contraseña es correcta o incorrecta.\n",
        "\"\"\"\n",
        "\n",
        "def verif_contrasenia(contrasenia_ingr):\n",
        "  if contrasenia_ingr == \"secreta123\":\n",
        "    return \"// La contraseña es correcta. \"\n",
        "  else:\n",
        "    return \"// La contraseña es incorrecta. \"\n",
        "\n",
        "print(\n",
        "    verif_contrasenia(input(\"-> Ingrese su contraseña: \"))\n",
        ")"
      ],
      "metadata": {
        "colab": {
          "base_uri": "https://localhost:8080/"
        },
        "id": "Kj5ypelaTa2R",
        "outputId": "1281de9d-e576-4f2b-8b51-5c863d44fb82"
      },
      "execution_count": 13,
      "outputs": [
        {
          "output_type": "stream",
          "name": "stdout",
          "text": [
            "-> Ingrese su contraseña: secreta123\n",
            "// La contraseña es correcta. \n"
          ]
        }
      ]
    },
    {
      "cell_type": "code",
      "source": [],
      "metadata": {
        "id": "IEWA0dKGUj4w"
      },
      "execution_count": null,
      "outputs": []
    }
  ]
}