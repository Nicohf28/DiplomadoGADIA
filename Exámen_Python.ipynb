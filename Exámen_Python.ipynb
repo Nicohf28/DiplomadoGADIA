{
  "cells": [
    {
      "cell_type": "markdown",
      "metadata": {
        "id": "view-in-github",
        "colab_type": "text"
      },
      "source": [
        "<a href=\"https://colab.research.google.com/github/Nicohf28/DiplomadoGADIA/blob/main/Ex%C3%A1men_Python.ipynb\" target=\"_parent\"><img src=\"https://colab.research.google.com/assets/colab-badge.svg\" alt=\"Open In Colab\"/></a>"
      ]
    },
    {
      "cell_type": "markdown",
      "source": [
        "![images.png](data:image/png;base64,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)\n",
        "\n",
        "\n",
        "**PRUEBA DE ENTREVISTA**\n",
        "\n",
        "CURSO DE PYTHON\n",
        "\n",
        "DIRECCION DE EDUCACIÓN CONTINUA\n",
        "\n",
        "FUNDACION UNIVERSITARIA CAFAM\n",
        "\n",
        "DOCENTE: NICOLAS MOJICA GOMEZ\n",
        "\n",
        "ESTUDIANTE: **Nicolás Hernández Flórez**\n",
        "\n",
        "\n",
        "---"
      ],
      "metadata": {
        "id": "Sb5I55A6yJOL"
      },
      "id": "Sb5I55A6yJOL"
    },
    {
      "cell_type": "markdown",
      "id": "a038a053",
      "metadata": {
        "id": "a038a053"
      },
      "source": [
        "Este examen evalúa conceptos fundamentales de Python. Tienes 2 horas y 30 minutos para completarlo. Por favor, responde cada pregunta en las celdas indicadas.\n",
        "\n",
        "**Instrucciones:**\n",
        "1. Lee cada pregunta cuidadosamente.\n",
        "2. Responde en la celda proporcionada debajo de cada pregunta.\n",
        "3. Guarda tu progreso frecuentemente.\n",
        "\n",
        "¡Buena suerte!\n"
      ]
    },
    {
      "cell_type": "markdown",
      "id": "d6b0e321",
      "metadata": {
        "id": "d6b0e321"
      },
      "source": [
        "## Sección 1: Teoría\n",
        "\n",
        "Responde las siguientes preguntas teóricas:"
      ]
    },
    {
      "cell_type": "markdown",
      "id": "2589c157",
      "metadata": {
        "id": "2589c157"
      },
      "source": [
        "### 1. Variables y Tipos de Datos\n",
        "\n",
        "a. ¿Cuál es la diferencia entre una lista y una tupla en Python? Proporciona ejemplos.\n",
        "\n",
        "**Respuesta: Una lista en python se diferencia de una tupla en que:**\n",
        "**A)** Una lista se declara y maneja en código con \"[]\" mientras que una tupla con \"()\". Ej: Lista = [1, 2, 3] ; Tupla = (1,2,3).\n",
        "**B)** La lista es mutable (alterable) mientras que la tupla no lo es. Es decir, que la tupla tiene metodos principalmente de consulta y se utiliza para datos más constantes, mientras que la lista tiene métodos varios para su modificación, tal como adicción o eliminación de elementos, siendo utilizada para almacenar datos modificables y variables.\n",
        "\n",
        "b. ¿Qué significa que una variable sea mutable? Proporciona un ejemplo de una variable mutable.\n",
        "\n",
        "**Repuesta:** Una variable mutable es aquella que puede ser modificada de diferentes maneras. De manera que una variable no mutable, es aquella que no puede serlo.\n",
        "\n",
        "Ejemplo:\n",
        "En caso de tener la lista:\n",
        "Productos = [\"manzanas\", \"peras\", \"duraznos\"]\n",
        "se puede saber que la variable \"Productos\" es mutable, pues es una estructura tipo lista, que permite la modificación de sus elementos de diversas maneras. Por ejemplo, con la linea: Productos.append(\"limones\"), para agregar un producto más a la lista.\n",
        "\n",
        "Ejemplo Negativo:\n",
        "En caso de tener la tupla:\n",
        "Color = (0, 0, 255)\n",
        "Se puede saber que \"Color\" no es mutable, pues es una estructura tipo tupla, que no permite la modificación de sus elementos como lo haría una variable mutable. Sus funciones y metodos son principalmente de consulta."
      ]
    },
    {
      "cell_type": "markdown",
      "id": "ab8d6323",
      "metadata": {
        "id": "ab8d6323"
      },
      "source": [
        "### 3. Estructuras de Control\n",
        "\n",
        "a. ¿Cuál es la función de `elif` en Python? Proporciona un ejemplo.\n",
        "\n",
        "**Respuesta:** La palabra reservada \"elif\" en python se utiliza para representar un else-if seguidos respectivamente, ejecutando funciones similares a la opción \"Switch\" en otros lenguajes de programación; donde se pueden definir varios casos posibles, y se debe seguir solamente 1 flujo de acuerdo con el caso. Ésta mejora la lectura y calidad del código, además de cumplir con su función lógica de control de flujo.\n",
        "\n",
        "Ejemplo:\n",
        "Se le pide al usuario que ingrese un número del 1 al 3. Y dependiendo de qué numero ingrese, queremos que imprima un mensaje. Es decir, que solo hay un flujo que queremos que suceda de acuerdo con la situación particular sucedida. Entonces definiriamos un bloque parecido a este (Por favor, abrir editor de texto si es necesario):\n",
        "\n",
        "if num_ingr = 1:\n",
        "  print(\"Mensaje A.\")\n",
        "elif num_ingr = 2:\n",
        "  print(\"Mensaje B.\")\n",
        "elif num_ingr = 3:\n",
        "  print(\"Mensaje C. \")\n",
        "else:\n",
        "  print(\"// El número ingresado no es válido. \")\n",
        "\n",
        "b. ¿Cuál es la diferencia entre un bucle `for` y un bucle `while`?\n",
        "\n",
        "**Respuesta:** El bucle for se utiliza para hacer iteraciones finitas. Puede ser una cantidad definida de veces o hasta recorrer una estructura por completo (como una lista).\n",
        "\n",
        "El bucle while se utiliza para hacer iteraciones infinitas hasta que se rompa el bucle al momento deseado. También ayuda para hacer programas que repiten \"escenarios\" varias veces durante su ejecución. También se utiliza para no avanzar en la ejecución principal hasta que se cumplan las condiciones esperadas."
      ]
    },
    {
      "cell_type": "markdown",
      "id": "49e5f7d3",
      "metadata": {
        "id": "49e5f7d3"
      },
      "source": [
        "## Sección 2: Práctica\n",
        "\n",
        "Completa los siguientes ejercicios de programación."
      ]
    },
    {
      "cell_type": "markdown",
      "id": "778c4807",
      "metadata": {
        "id": "778c4807"
      },
      "source": [
        "### 1. Variables y Operadores\n",
        "\n",
        "Escribe un programa que solicite dos números al usuario y realice las operaciones de suma, resta, multiplicación, división y módulo.\n",
        "\n",
        "**Espacio para tu código:**"
      ]
    },
    {
      "cell_type": "code",
      "execution_count": 10,
      "id": "e7a63e93",
      "metadata": {
        "id": "e7a63e93",
        "colab": {
          "base_uri": "https://localhost:8080/"
        },
        "outputId": "b41747cc-7e4f-48a9-b684-9965655ac3eb"
      },
      "outputs": [
        {
          "output_type": "stream",
          "name": "stdout",
          "text": [
            "// Los números que ingrese serán operados como: suma, resta, multiplicación, división y módulo, en el orden ingresado. \n",
            "-> Ingrese un número: 5\n",
            "-> Ingrese un segundo número: 2\n",
            "\n",
            "// Suma: 7\n",
            "// Resta: 3\n",
            "// Multiplicación: 10\n",
            "// División: 2.5\n",
            "// Módulo: 1\n"
          ]
        }
      ],
      "source": [
        "print(\"// Los números que ingrese serán operados como: suma, resta, multiplicación, división y módulo, en el orden ingresado. \")\n",
        "num1 = int(input(\"-> Ingrese un número: \"))\n",
        "num2 = int(input(\"-> Ingrese un segundo número: \"))\n",
        "\n",
        "print(\"\")\n",
        "print(\"// Suma:\", num1+num2)\n",
        "print(\"// Resta:\", num1-num2)\n",
        "print(\"// Multiplicación:\", num1*num2)\n",
        "\n",
        "if num2 != 0:\n",
        "  print(\"// División:\", num1/num2)\n",
        "  print(\"// Módulo:\", num1%num2)\n",
        "else:\n",
        "  print(\"// El segundo número ingresado es 0, y no se puede dividir entre 0. Las operaciones división y módulo no son posible en este caso.\")"
      ]
    },
    {
      "cell_type": "markdown",
      "id": "56fe1d81",
      "metadata": {
        "id": "56fe1d81"
      },
      "source": [
        "### 2. Estructuras de Datos\n",
        "\n",
        "Escribe un programa que solicite al usuario 5 palabras, las almacene en una lista, ordene la lista alfabéticamente, la convierta en una tupla e imprima la longitud de la tupla.\n",
        "\n",
        "**Espacio para tu código:**"
      ]
    },
    {
      "cell_type": "code",
      "execution_count": 24,
      "id": "8772080c",
      "metadata": {
        "id": "8772080c",
        "colab": {
          "base_uri": "https://localhost:8080/"
        },
        "outputId": "02a5b8b7-fb9b-4a5d-88ea-53c57b0a0e77"
      },
      "outputs": [
        {
          "output_type": "stream",
          "name": "stdout",
          "text": [
            "-> Ingrese la palabra 1: zoologico\n",
            "-> Ingrese la palabra 2: amor\n",
            "-> Ingrese la palabra 3: bull\n",
            "-> Ingrese la palabra 4: daga\n",
            "-> Ingrese la palabra 5: carro\n",
            "// La lista ordenada alfabeticamente queda así: ['amor', 'bull', 'carro', 'daga', 'zoologico']\n",
            "// La tupla queda así: ('amor', 'bull', 'carro', 'daga', 'zoologico')\n",
            "// La longitud de la tupla es:  5\n"
          ]
        }
      ],
      "source": [
        "lista_palabras = []\n",
        "\n",
        "# Solicitud de 5 palabras y almacenamiento en la lista: lista_palabras.\n",
        "# También se puede utilizar \"for i in range(5)\", pero, para no faltar al progreso del curso, lo resuelvo de esta manera.\n",
        "contador = 1\n",
        "while contador <= 5:\n",
        "  receptor = input(f\"-> Ingrese la palabra {contador}: \")\n",
        "  lista_palabras.append(receptor)\n",
        "\n",
        "  contador += 1\n",
        "\n",
        "# Ordenar Alfabeticamente.\n",
        "lista_palabras.sort()\n",
        "print(\"// La lista ordenada alfabeticamente queda así:\", lista_palabras)\n",
        "\n",
        "# Convertir la lista en tupla.\n",
        "tupla_palabras = tuple(lista_palabras)\n",
        "print(\"// La tupla queda así:\", tupla_palabras)\n",
        "\n",
        "# Imprimir longitud de la tupla.\n",
        "# También se puede utilizar la función len() de python.\n",
        "longitud = 0\n",
        "for i in tupla_palabras:\n",
        "  longitud += 1\n",
        "\n",
        "print(\"// La longitud de la tupla es: \", longitud)\n"
      ]
    },
    {
      "cell_type": "markdown",
      "id": "82b32407",
      "metadata": {
        "id": "82b32407"
      },
      "source": [
        "### 3. Condicionales\n",
        "\n",
        "Escribe un programa que solicite al usuario su edad y determine si es menor de edad, mayor de edad o adulto mayor.\n",
        "\n",
        "**Espacio para tu código:**"
      ]
    },
    {
      "cell_type": "code",
      "execution_count": 38,
      "id": "a161d90c",
      "metadata": {
        "id": "a161d90c",
        "colab": {
          "base_uri": "https://localhost:8080/"
        },
        "outputId": "0050a2b1-2915-426f-c0ae-d6b1b6bd3e7f"
      },
      "outputs": [
        {
          "output_type": "stream",
          "name": "stdout",
          "text": [
            "-> Ingrese su edad: 19\n",
            "// Usted es mayor de edad. \n"
          ]
        }
      ],
      "source": [
        "edad = int(input(\"-> Ingrese su edad: \"))\n",
        "\n",
        "# La edad 0 puede ser un bebe de meses.\n",
        "if edad >= 0:\n",
        "\n",
        "  if edad>=0 and edad <=17:\n",
        "    print(\"// Usted es menor de edad. \")\n",
        "  elif edad>=18 and edad<=59:\n",
        "    print(\"// Usted es mayor de edad. \")\n",
        "  else:\n",
        "    print(\"// Usted es un adulto mayor. \")\n",
        "\n",
        "else:\n",
        "  print(\"// La edad no puede ser menor a 0. Intente de nuevo.\")"
      ]
    },
    {
      "cell_type": "markdown",
      "id": "22a06bd2",
      "metadata": {
        "id": "22a06bd2"
      },
      "source": [
        "### 4. Funciones\n",
        "\n",
        "Define una función que reciba una lista de números y calcule el promedio. Solicita al usuario 5 números, almacénalos en una lista, calcula el promedio usando la función e imprime el resultado.\n",
        "\n",
        "**Espacio para tu código:**"
      ]
    },
    {
      "cell_type": "code",
      "execution_count": 50,
      "id": "6ac8651e",
      "metadata": {
        "id": "6ac8651e",
        "colab": {
          "base_uri": "https://localhost:8080/"
        },
        "outputId": "380c4663-b3e8-4ac4-8dd9-ce116a5a3b45"
      },
      "outputs": [
        {
          "output_type": "stream",
          "name": "stdout",
          "text": [
            "-> Ingrese el número 1°: 1\n",
            "-> Ingrese el número 2°: 2\n",
            "-> Ingrese el número 3°: 3\n",
            "-> Ingrese el número 4°: 4\n",
            "-> Ingrese el número 5°: 5\n",
            "// La sumatoria de la lista: [1, 2, 3, 4, 5] es igual a: 15\n"
          ]
        }
      ],
      "source": [
        "# Función.\n",
        "def prom_numeros(lista):\n",
        "  sumatoria = 0\n",
        "  for i in lista:\n",
        "    sumatoria += i\n",
        "\n",
        "  return f\"// La sumatoria de la lista: {lista} es igual a: {sumatoria}\"\n",
        "\n",
        "# Flujo Principal.\n",
        "lista_numeros = []\n",
        "\n",
        "contador = 1\n",
        "while contador <= 5:\n",
        "  receptor = int(input(f\"-> Ingrese el número {contador}°: \"))\n",
        "  lista_numeros.append(receptor)\n",
        "\n",
        "  contador += 1\n",
        "\n",
        "print(\n",
        "    prom_numeros(lista_numeros)\n",
        ")"
      ]
    },
    {
      "cell_type": "markdown",
      "id": "65bbe5fa",
      "metadata": {
        "id": "65bbe5fa"
      },
      "source": [
        "### 5. Ciclos y Bucles\n",
        "\n",
        "Escribe un programa que imprima los números del 1 al 100, pero:\n",
        "- Si un número es múltiplo de 3, imprime 'Fizz'.\n",
        "- Si un número es múltiplo de 5, imprime 'Buzz'.\n",
        "- Si es múltiplo de ambos, imprime 'FizzBuzz'.\n",
        "\n",
        "**Espacio para tu código:**"
      ]
    },
    {
      "cell_type": "code",
      "execution_count": 56,
      "id": "6f29390e",
      "metadata": {
        "id": "6f29390e",
        "colab": {
          "base_uri": "https://localhost:8080/"
        },
        "outputId": "1e199714-fcf9-4e94-d705-ae3bb377b9c2"
      },
      "outputs": [
        {
          "output_type": "stream",
          "name": "stdout",
          "text": [
            "3: Fizz\n",
            "5: Buzz\n",
            "6: Fizz\n",
            "9: Fizz\n",
            "10: Buzz\n",
            "12: Fizz\n",
            "15: FizzBuzz\n",
            "18: Fizz\n",
            "20: Buzz\n",
            "21: Fizz\n",
            "24: Fizz\n",
            "25: Buzz\n",
            "27: Fizz\n",
            "30: FizzBuzz\n",
            "33: Fizz\n",
            "35: Buzz\n",
            "36: Fizz\n",
            "39: Fizz\n",
            "40: Buzz\n",
            "42: Fizz\n",
            "45: FizzBuzz\n",
            "48: Fizz\n",
            "50: Buzz\n",
            "51: Fizz\n",
            "54: Fizz\n",
            "55: Buzz\n",
            "57: Fizz\n",
            "60: FizzBuzz\n",
            "63: Fizz\n",
            "65: Buzz\n",
            "66: Fizz\n",
            "69: Fizz\n",
            "70: Buzz\n",
            "72: Fizz\n",
            "75: FizzBuzz\n",
            "78: Fizz\n",
            "80: Buzz\n",
            "81: Fizz\n",
            "84: Fizz\n",
            "85: Buzz\n",
            "87: Fizz\n",
            "90: FizzBuzz\n",
            "93: Fizz\n",
            "95: Buzz\n",
            "96: Fizz\n",
            "99: Fizz\n",
            "100: Buzz\n"
          ]
        }
      ],
      "source": [
        "# De nuevo, aquí se podría utilizar \"for i in range(100)\", pero lo voy a resolver con while y un contador, por lo ya mencionado anteriormente.\n",
        "\n",
        "numero = 1\n",
        "while numero <= 100:\n",
        "  if numero%3==0 and numero%5==0:\n",
        "    print(f\"{numero}: FizzBuzz\")\n",
        "  else:\n",
        "    if numero%3 == 0:\n",
        "      print(f\"{numero}: Fizz\")\n",
        "    elif numero%5 == 0:\n",
        "      print(f\"{numero}: Buzz\")\n",
        "\n",
        "  numero += 1\n",
        "  #Fin del while.\n",
        "\n",
        "#Fin del programa.\n",
        "#Número no impreso: no es divisible ni por 3 ni por 5."
      ]
    },
    {
      "cell_type": "markdown",
      "id": "b00c70f3",
      "metadata": {
        "id": "b00c70f3"
      },
      "source": [
        "### 6. Proyecto Final: Sistema de Inventario\n",
        "\n",
        "Escribe un programa que gestione un inventario utilizando un diccionario. El programa debe:\n",
        "1. Permitir agregar productos con su cantidad.\n",
        "2. Actualizar la cantidad de un producto existente.\n",
        "3. Eliminar un producto del inventario.\n",
        "4. Mostrar todos los productos y sus cantidades.\n",
        "5. Salir del programa.\n",
        "\n",
        "El programa debe mostrar un menú interactivo para que el usuario seleccione una opción.\n",
        "\n",
        "**Espacio para tu código:**"
      ]
    },
    {
      "cell_type": "code",
      "execution_count": 74,
      "id": "298f2a53",
      "metadata": {
        "id": "298f2a53",
        "colab": {
          "base_uri": "https://localhost:8080/"
        },
        "outputId": "69d217c5-1457-4a79-b23e-bfb6078b3eba"
      },
      "outputs": [
        {
          "output_type": "stream",
          "name": "stdout",
          "text": [
            "| Menú de Interación: \n",
            "1. Agregar productos con su cantidad. \n",
            "2. Actualizar cantidad de un producto existente. \n",
            "3. Eliminar producto del inventario. \n",
            "4. Mostrar todos los productos y sus cantidades. \n",
            "5. Salir del programa. \n",
            "-> Ingrese el número de la opción que desea realizar: 4\n",
            "\n",
            "// Los productos en inventario son:\n",
            "{'Manzana': 5, 'Pera': 6}\n",
            "\n",
            "| Menú de Interación: \n",
            "1. Agregar productos con su cantidad. \n",
            "2. Actualizar cantidad de un producto existente. \n",
            "3. Eliminar producto del inventario. \n",
            "4. Mostrar todos los productos y sus cantidades. \n",
            "5. Salir del programa. \n",
            "-> Ingrese el número de la opción que desea realizar: 3\n",
            "\n",
            "-> Ingrese el nombre del producto: Sandia\n",
            "// El producto ingresado no existe en el diccionario. \n",
            "\n",
            "| Menú de Interación: \n",
            "1. Agregar productos con su cantidad. \n",
            "2. Actualizar cantidad de un producto existente. \n",
            "3. Eliminar producto del inventario. \n",
            "4. Mostrar todos los productos y sus cantidades. \n",
            "5. Salir del programa. \n",
            "-> Ingrese el número de la opción que desea realizar: 3\n",
            "\n",
            "-> Ingrese el nombre del producto: Pera\n",
            "// Producto eliminado con éxito.\n",
            "\n",
            "| Menú de Interación: \n",
            "1. Agregar productos con su cantidad. \n",
            "2. Actualizar cantidad de un producto existente. \n",
            "3. Eliminar producto del inventario. \n",
            "4. Mostrar todos los productos y sus cantidades. \n",
            "5. Salir del programa. \n",
            "-> Ingrese el número de la opción que desea realizar: 4\n",
            "\n",
            "// Los productos en inventario son:\n",
            "{'Manzana': 5}\n",
            "\n",
            "| Menú de Interación: \n",
            "1. Agregar productos con su cantidad. \n",
            "2. Actualizar cantidad de un producto existente. \n",
            "3. Eliminar producto del inventario. \n",
            "4. Mostrar todos los productos y sus cantidades. \n",
            "5. Salir del programa. \n",
            "-> Ingrese el número de la opción que desea realizar: 2\n",
            "\n",
            "-> Ingrese el nombre del producto: Pera\n",
            "// El producto ingresado no existe en el diccionario. \n",
            "\n",
            "| Menú de Interación: \n",
            "1. Agregar productos con su cantidad. \n",
            "2. Actualizar cantidad de un producto existente. \n",
            "3. Eliminar producto del inventario. \n",
            "4. Mostrar todos los productos y sus cantidades. \n",
            "5. Salir del programa. \n",
            "-> Ingrese el número de la opción que desea realizar: 2\n",
            "\n",
            "-> Ingrese el nombre del producto: Manzana\n",
            "-> Ingrese la cantidad nueva del producto: 7\n",
            "// Cantidad actualizada éxitosamente.\n",
            "\n",
            "| Menú de Interación: \n",
            "1. Agregar productos con su cantidad. \n",
            "2. Actualizar cantidad de un producto existente. \n",
            "3. Eliminar producto del inventario. \n",
            "4. Mostrar todos los productos y sus cantidades. \n",
            "5. Salir del programa. \n",
            "-> Ingrese el número de la opción que desea realizar: 4\n",
            "\n",
            "// Los productos en inventario son:\n",
            "{'Manzana': 7}\n",
            "\n",
            "| Menú de Interación: \n",
            "1. Agregar productos con su cantidad. \n",
            "2. Actualizar cantidad de un producto existente. \n",
            "3. Eliminar producto del inventario. \n",
            "4. Mostrar todos los productos y sus cantidades. \n",
            "5. Salir del programa. \n",
            "-> Ingrese el número de la opción que desea realizar: 1\n",
            "\n",
            "-> Ingrese el nombre del producto: Fresa\n",
            "-> Ingrese la cantidad del producto: 3\n",
            "// Producto agregado exitosamente.\n",
            "\n",
            "| Menú de Interación: \n",
            "1. Agregar productos con su cantidad. \n",
            "2. Actualizar cantidad de un producto existente. \n",
            "3. Eliminar producto del inventario. \n",
            "4. Mostrar todos los productos y sus cantidades. \n",
            "5. Salir del programa. \n",
            "-> Ingrese el número de la opción que desea realizar: 4\n",
            "\n",
            "// Los productos en inventario son:\n",
            "{'Manzana': 7, 'Fresa': 3}\n",
            "\n",
            "| Menú de Interación: \n",
            "1. Agregar productos con su cantidad. \n",
            "2. Actualizar cantidad de un producto existente. \n",
            "3. Eliminar producto del inventario. \n",
            "4. Mostrar todos los productos y sus cantidades. \n",
            "5. Salir del programa. \n",
            "-> Ingrese el número de la opción que desea realizar: 5\n",
            "\n",
            "// ¡Hasta luego!\n"
          ]
        }
      ],
      "source": [
        "# Diccionario.\n",
        "productos = {\n",
        "    \"Manzana\" : 5,\n",
        "    \"Pera\" : 6,\n",
        "}\n",
        "\n",
        "def mostrar_menu():\n",
        "  print(\"| Menú de Interación: \")\n",
        "  print(\"1. Agregar productos con su cantidad. \")\n",
        "  print(\"2. Actualizar cantidad de un producto existente. \")\n",
        "  print(\"3. Eliminar producto del inventario. \")\n",
        "  print(\"4. Mostrar todos los productos y sus cantidades. \")\n",
        "  print(\"5. Salir del programa. \")\n",
        "\n",
        "def recibir_opcion_menu():\n",
        "  op = int(input(\"-> Ingrese el número de la opción que desea realizar: \"))\n",
        "  return op\n",
        "\n",
        "def redireccion_menu(opcion):\n",
        "  if opcion == 1:\n",
        "    agregar_producto()\n",
        "    return False\n",
        "  elif opcion == 2:\n",
        "    actualizar_cantidad()\n",
        "    return False\n",
        "  elif opcion == 3:\n",
        "    eliminar_producto()\n",
        "    return False\n",
        "  elif opcion == 4:\n",
        "    mostrar_productos()\n",
        "    return False\n",
        "  elif opcion == 5:\n",
        "    print(\"\")\n",
        "    print(\"// ¡Hasta luego!\")\n",
        "    return True\n",
        "  else:\n",
        "    print(\"// La opción ingresada es inválida, intente de nuevo. \")\n",
        "    return False\n",
        "\n",
        "# Opción 1.\n",
        "def agregar_producto():\n",
        "  print(\"\")\n",
        "\n",
        "  prod = input(\"-> Ingrese el nombre del producto: \")\n",
        "  cant = int(input(\"-> Ingrese la cantidad del producto: \"))\n",
        "  productos[prod] = cant\n",
        "  print(\"// Producto agregado exitosamente.\")\n",
        "\n",
        "  print(\"\")\n",
        "\n",
        "# Opción 2.\n",
        "def actualizar_cantidad():\n",
        "  print(\"\")\n",
        "\n",
        "  prod = input(\"-> Ingrese el nombre del producto: \")\n",
        "\n",
        "  if prod in productos:\n",
        "    cant = int(input(\"-> Ingrese la cantidad nueva del producto: \"))\n",
        "    productos[prod] = cant\n",
        "    print(\"// Cantidad actualizada éxitosamente.\")\n",
        "  else:\n",
        "    print(\"// El producto ingresado no existe en el diccionario. \")\n",
        "\n",
        "  print(\"\")\n",
        "\n",
        "# Opción 3.\n",
        "def eliminar_producto():\n",
        "  print(\"\")\n",
        "  prod = input(\"-> Ingrese el nombre del producto: \")\n",
        "\n",
        "  if prod in productos:\n",
        "    del productos[prod]\n",
        "    print(\"// Producto eliminado con éxito.\")\n",
        "  else:\n",
        "    print(\"// El producto ingresado no existe en el diccionario. \")\n",
        "\n",
        "  print(\"\")\n",
        "\n",
        "# Opción 4.\n",
        "def mostrar_productos():\n",
        "  print(\"\")\n",
        "  print(\"// Los productos en inventario son:\")\n",
        "  print(productos)\n",
        "  print(\"\")\n",
        "\n",
        "# Flujo Principal.\n",
        "fin_proceso = False\n",
        "while fin_proceso == False:\n",
        "  mostrar_menu()\n",
        "  op = recibir_opcion_menu()\n",
        "\n",
        "  fin_proceso = redireccion_menu(op)\n"
      ]
    },
    {
      "cell_type": "code",
      "source": [],
      "metadata": {
        "id": "89sJ8Hrottyi"
      },
      "id": "89sJ8Hrottyi",
      "execution_count": null,
      "outputs": []
    }
  ],
  "metadata": {
    "colab": {
      "provenance": [],
      "include_colab_link": true
    },
    "language_info": {
      "name": "python"
    },
    "kernelspec": {
      "name": "python3",
      "display_name": "Python 3"
    }
  },
  "nbformat": 4,
  "nbformat_minor": 5
}