{
  "nbformat": 4,
  "nbformat_minor": 0,
  "metadata": {
    "colab": {
      "provenance": [],
      "toc_visible": true,
      "authorship_tag": "ABX9TyPIRKGGCkEuHWPA6XRx5XWu",
      "include_colab_link": true
    },
    "kernelspec": {
      "name": "python3",
      "display_name": "Python 3"
    },
    "language_info": {
      "name": "python"
    }
  },
  "cells": [
    {
      "cell_type": "markdown",
      "metadata": {
        "id": "view-in-github",
        "colab_type": "text"
      },
      "source": [
        "<a href=\"https://colab.research.google.com/github/Nicohf28/DiplomadoGADIA/blob/main/Clase1_Introduccion.ipynb\" target=\"_parent\"><img src=\"https://colab.research.google.com/assets/colab-badge.svg\" alt=\"Open In Colab\"/></a>"
      ]
    },
    {
      "cell_type": "markdown",
      "source": [
        "**Introducción a Python**\n",
        "\n",
        "Diplomado en Gobierno y Analítica de Datos para Toma de decisiones Basado en Inteligencia Artificial\n",
        "\n",
        "Fundación Universitaria Cafam\n",
        "\n",
        "Docente: Nicolás Mojica Gómez\n",
        "\n",
        "Estudiante: Nicolás Hernández Flórez\n",
        "\n",
        "\n",
        "\n",
        "---\n",
        "\n"
      ],
      "metadata": {
        "id": "6dbieXn9qMgF"
      }
    },
    {
      "cell_type": "markdown",
      "source": [
        "## 1. Comentarios en los códigos.\n",
        "\n",
        "Para documentar códigos en Python, existen diferentes formas de hacer comentarios.\n",
        "\n",
        "Esto nos permite documentar nuestras secuencias de comandos para su análisis y/o posterior modificación."
      ],
      "metadata": {
        "id": "7aqAM506rrbF"
      }
    },
    {
      "cell_type": "code",
      "execution_count": null,
      "metadata": {
        "colab": {
          "base_uri": "https://localhost:8080/"
        },
        "id": "dwdf0l-roscn",
        "outputId": "52a5e641-f6e4-4a78-c406-f7bae2b45f85"
      },
      "outputs": [
        {
          "output_type": "stream",
          "name": "stdout",
          "text": [
            "Hola mundo. \n"
          ]
        }
      ],
      "source": [
        "# Este comentario es de una sola línea.\n",
        "# Python es un lenguaje sensible a las mayúsculas y las minúsculas.\n",
        "print(\"Hola mundo. \")"
      ]
    },
    {
      "cell_type": "code",
      "source": [
        "'''\n",
        "Este comentario es de multiples líneas,\n",
        "es decir, que puede extenderse\n",
        "por varias líneas\n",
        "'''\n",
        "print(\"Hola mundo. \")"
      ],
      "metadata": {
        "colab": {
          "base_uri": "https://localhost:8080/"
        },
        "id": "nWhKdRnivptZ",
        "outputId": "4fb7133d-36da-4f70-d9fa-98fd2d7328b9"
      },
      "execution_count": null,
      "outputs": [
        {
          "output_type": "stream",
          "name": "stdout",
          "text": [
            "Hola mundo. \n"
          ]
        }
      ]
    },
    {
      "cell_type": "markdown",
      "source": [
        "## 2. Variables.\n",
        "\n",
        "Una variable es un elemento de un lenguaje de programación que tiene asignado un valor determinado."
      ],
      "metadata": {
        "id": "WBiAbCORwSrx"
      }
    },
    {
      "cell_type": "code",
      "source": [
        "# Para crear una variable en python, se le debe proporcionar un nombre y asignarle un valor, utilizando un =\n",
        "var = \"Hola mundo. \"\n",
        "print(var)"
      ],
      "metadata": {
        "colab": {
          "base_uri": "https://localhost:8080/"
        },
        "id": "OC560iTKw2UE",
        "outputId": "2fec084d-a1bb-4442-8edb-e3182f030554"
      },
      "execution_count": null,
      "outputs": [
        {
          "output_type": "stream",
          "name": "stdout",
          "text": [
            "Hola mundo. \n"
          ]
        }
      ]
    },
    {
      "cell_type": "code",
      "source": [
        "# Las variables pueden cambiar a lo largo del programa en python.\n",
        "var = \"Hola Mundo. \"\n",
        "print(var)\n",
        "\n",
        "var = \"Adiós Mundo. \"\n",
        "print(var)"
      ],
      "metadata": {
        "colab": {
          "base_uri": "https://localhost:8080/"
        },
        "id": "8cUcmTKnx8Op",
        "outputId": "e7e5a28a-f162-4bc2-d424-e8e2452e9fb7"
      },
      "execution_count": null,
      "outputs": [
        {
          "output_type": "stream",
          "name": "stdout",
          "text": [
            "Hola Mundo. \n",
            "Adiós Mundo. \n"
          ]
        }
      ]
    },
    {
      "cell_type": "code",
      "source": [
        "# Las variables en Python son sensibles a las mayúsculas y a las minúsculas.\n"
      ],
      "metadata": {
        "id": "mRmklbaOyEMZ"
      },
      "execution_count": null,
      "outputs": []
    },
    {
      "cell_type": "markdown",
      "source": [
        "## 3. Tipos de Datos.\n",
        "\n"
      ],
      "metadata": {
        "id": "JXZAFkK04p9K"
      }
    },
    {
      "cell_type": "code",
      "source": [
        "# Tipos de datos numéricos.\n",
        "\n",
        "Entero = 42\n",
        "# En la mayor parte de los lenguajes de programación, los enteros son representados con \"Int\".\n",
        "\n",
        "Flotante = 3.14151\n",
        "# Los números flotantes son aquellos que representan un número con su parte decimal (precisión doble).\n",
        "# Pueden representar números muy grandes (5,1234241341...) o números muy pequeños (0,0000000...001234).\n",
        "\n",
        "print(Entero)\n",
        "print(Flotante)"
      ],
      "metadata": {
        "colab": {
          "base_uri": "https://localhost:8080/"
        },
        "id": "eMTE9HUy5PZc",
        "outputId": "becc71b9-44e7-4d89-c834-92d212ff02c7"
      },
      "execution_count": null,
      "outputs": [
        {
          "output_type": "stream",
          "name": "stdout",
          "text": [
            "42\n",
            "3.14151\n"
          ]
        }
      ]
    },
    {
      "cell_type": "code",
      "source": [
        "# Conversión de los Tipos de Datos.\n",
        "\n",
        "# Convertir un Flotante, a un número Entero.\n",
        "Entero = int(3.14)\n",
        "print(Entero)\n",
        "\n",
        "# Convertir un Entero, a un número Flotante.\n",
        "Flotante = float(5)\n",
        "print(Flotante)"
      ],
      "metadata": {
        "colab": {
          "base_uri": "https://localhost:8080/"
        },
        "id": "7mEWyz605r1a",
        "outputId": "877998f2-b581-4e90-e7fa-e5780e945c6b"
      },
      "execution_count": null,
      "outputs": [
        {
          "output_type": "stream",
          "name": "stdout",
          "text": [
            "3\n",
            "5.0\n"
          ]
        }
      ]
    },
    {
      "cell_type": "markdown",
      "source": [
        "## 4. Operadores Aritméticos.\n",
        "\n",
        "Los operadores matemáticos se utilizan para realizar operaciones comunes como la suma, resta, multiplicación y división."
      ],
      "metadata": {
        "id": "xJ8YfxIv7lgG"
      }
    },
    {
      "cell_type": "code",
      "source": [
        "# Suma.\n",
        "A = 10\n",
        "B = 5\n",
        "print(A+B)\n",
        "\n",
        "C = A+B\n",
        "print(C)"
      ],
      "metadata": {
        "colab": {
          "base_uri": "https://localhost:8080/"
        },
        "id": "rlXCPPh56rBX",
        "outputId": "fd7b9224-8027-4a90-f5de-57c89716c8c4"
      },
      "execution_count": null,
      "outputs": [
        {
          "output_type": "stream",
          "name": "stdout",
          "text": [
            "15\n",
            "15\n"
          ]
        }
      ]
    },
    {
      "cell_type": "code",
      "source": [
        "# Resta.\n",
        "C = A - B\n",
        "print(C)"
      ],
      "metadata": {
        "colab": {
          "base_uri": "https://localhost:8080/"
        },
        "id": "PmtcdG4d8F6D",
        "outputId": "6c43dfbe-42df-4ad3-f74a-cdbfe9b65494"
      },
      "execution_count": null,
      "outputs": [
        {
          "output_type": "stream",
          "name": "stdout",
          "text": [
            "5\n"
          ]
        }
      ]
    },
    {
      "cell_type": "code",
      "source": [
        "# Multiplicación.\n",
        "D = A*B\n",
        "print(D)"
      ],
      "metadata": {
        "colab": {
          "base_uri": "https://localhost:8080/"
        },
        "id": "6r6q-srX8e--",
        "outputId": "93b04c69-8e1c-4e35-fc32-f54e2c0dc92b"
      },
      "execution_count": null,
      "outputs": [
        {
          "output_type": "stream",
          "name": "stdout",
          "text": [
            "50\n"
          ]
        }
      ]
    },
    {
      "cell_type": "code",
      "source": [
        "# División.\n",
        "E = A/B\n",
        "print(E)"
      ],
      "metadata": {
        "colab": {
          "base_uri": "https://localhost:8080/"
        },
        "id": "tDrbdau58rc2",
        "outputId": "d382e887-036e-424f-e42e-dd758faee7e8"
      },
      "execution_count": null,
      "outputs": [
        {
          "output_type": "stream",
          "name": "stdout",
          "text": [
            "2.0\n"
          ]
        }
      ]
    },
    {
      "cell_type": "code",
      "source": [
        "# División Entera.\n",
        "print(A//B)"
      ],
      "metadata": {
        "colab": {
          "base_uri": "https://localhost:8080/"
        },
        "id": "V-4FapAn8tdx",
        "outputId": "e989d5fb-034f-405b-f486-4a410e5048e1"
      },
      "execution_count": null,
      "outputs": [
        {
          "output_type": "stream",
          "name": "stdout",
          "text": [
            "2\n"
          ]
        }
      ]
    },
    {
      "cell_type": "code",
      "source": [
        "# Módulo = Residuo de una operación.\n",
        "print(A%B)\n",
        "# 10/5=2, residuo = 0."
      ],
      "metadata": {
        "colab": {
          "base_uri": "https://localhost:8080/"
        },
        "id": "GzdgYOUOA7gj",
        "outputId": "0e6e5926-750f-4a37-9fa7-24116027f49e"
      },
      "execution_count": null,
      "outputs": [
        {
          "output_type": "stream",
          "name": "stdout",
          "text": [
            "0\n"
          ]
        }
      ]
    },
    {
      "cell_type": "code",
      "source": [
        "# Exponenciación.\n",
        "print(A**B)\n",
        "# A**B = A^B"
      ],
      "metadata": {
        "colab": {
          "base_uri": "https://localhost:8080/"
        },
        "id": "WQEEhln8BPHv",
        "outputId": "0a5b9214-edac-4d7e-df59-a00a5b89fc45"
      },
      "execution_count": null,
      "outputs": [
        {
          "output_type": "stream",
          "name": "stdout",
          "text": [
            "100000\n"
          ]
        }
      ]
    },
    {
      "cell_type": "code",
      "source": [
        "# Asignación Compuesta (Suma). Relevante para bucles y ciclos.\n",
        "A = 10\n",
        "A+=B\n",
        "print(A)\n",
        "# A = A + B"
      ],
      "metadata": {
        "colab": {
          "base_uri": "https://localhost:8080/"
        },
        "id": "xgRkR06EBl_5",
        "outputId": "439c3cc2-dfd5-4ce3-d27c-9c8a2b53c2cd"
      },
      "execution_count": null,
      "outputs": [
        {
          "output_type": "stream",
          "name": "stdout",
          "text": [
            "15\n"
          ]
        }
      ]
    },
    {
      "cell_type": "code",
      "source": [
        "# Asignación Compuesta (Resta)\n",
        "A = 10\n",
        "A-=B\n",
        "print(A)\n",
        "# A = A - B"
      ],
      "metadata": {
        "colab": {
          "base_uri": "https://localhost:8080/"
        },
        "id": "iHPq8RZ3B2xe",
        "outputId": "f6335c29-a434-410d-f149-ac9319b4e701"
      },
      "execution_count": null,
      "outputs": [
        {
          "output_type": "stream",
          "name": "stdout",
          "text": [
            "5\n"
          ]
        }
      ]
    },
    {
      "cell_type": "code",
      "source": [
        "# Asignación Compuesta (Multiplicación)\n",
        "A = 10\n",
        "A*=B\n",
        "print(A)\n",
        "# A = A * B"
      ],
      "metadata": {
        "colab": {
          "base_uri": "https://localhost:8080/"
        },
        "id": "CQdnF0XPCiFG",
        "outputId": "a6d20d80-195f-4b3b-b134-a68327c30d2a"
      },
      "execution_count": null,
      "outputs": [
        {
          "output_type": "stream",
          "name": "stdout",
          "text": [
            "50\n"
          ]
        }
      ]
    },
    {
      "cell_type": "code",
      "source": [
        "# Asignación Compuesta (División)\n",
        "A = 10\n",
        "A/=B\n",
        "print(A)\n",
        "# A = A / B"
      ],
      "metadata": {
        "colab": {
          "base_uri": "https://localhost:8080/"
        },
        "id": "LRJGOdrmCsmo",
        "outputId": "ee2cf0b8-51e7-4403-b632-1c5e0be7fb94"
      },
      "execution_count": null,
      "outputs": [
        {
          "output_type": "stream",
          "name": "stdout",
          "text": [
            "2.0\n"
          ]
        }
      ]
    },
    {
      "cell_type": "code",
      "source": [
        "# Redondeo.\n",
        "Var4 = 4.1410\n",
        "print(round(Var4, 2))\n",
        "# La función round() siver para redondear un número flotante.\n",
        "# El segundo argumento de la función round(), indica la cantidad de decimales deseados."
      ],
      "metadata": {
        "colab": {
          "base_uri": "https://localhost:8080/"
        },
        "id": "TStN88RTCz86",
        "outputId": "c401bb20-0582-4e3c-d43f-3125be6a79c9"
      },
      "execution_count": null,
      "outputs": [
        {
          "output_type": "stream",
          "name": "stdout",
          "text": [
            "4.14\n"
          ]
        }
      ]
    },
    {
      "cell_type": "markdown",
      "source": [
        "## Taller / Ejercicio 4: Operaciones Matemáticas."
      ],
      "metadata": {
        "id": "VcVxuBGqGur3"
      }
    },
    {
      "cell_type": "code",
      "source": [
        "# Modificación."
      ],
      "metadata": {
        "id": "IGYA2AcWDNWT"
      },
      "execution_count": null,
      "outputs": []
    },
    {
      "cell_type": "code",
      "source": [
        "A = 10\n",
        "B = 3"
      ],
      "metadata": {
        "id": "SE_gNUntGqJC"
      },
      "execution_count": null,
      "outputs": []
    },
    {
      "cell_type": "code",
      "source": [
        "suma = A+B\n",
        "print(suma)"
      ],
      "metadata": {
        "colab": {
          "base_uri": "https://localhost:8080/"
        },
        "id": "A5_97PgqHn9S",
        "outputId": "d2980e22-a054-487d-e49e-600f5272cb5e"
      },
      "execution_count": null,
      "outputs": [
        {
          "output_type": "stream",
          "name": "stdout",
          "text": [
            "13\n"
          ]
        }
      ]
    },
    {
      "cell_type": "code",
      "source": [
        "resta = A-B\n",
        "print(resta)"
      ],
      "metadata": {
        "colab": {
          "base_uri": "https://localhost:8080/"
        },
        "id": "FcAowT7LHrrW",
        "outputId": "cacc9813-a3f7-47a2-e826-7e2a833c1c10"
      },
      "execution_count": null,
      "outputs": [
        {
          "output_type": "stream",
          "name": "stdout",
          "text": [
            "7\n"
          ]
        }
      ]
    },
    {
      "cell_type": "code",
      "source": [
        "multiplicacion = A*B\n",
        "print(multiplicacion)"
      ],
      "metadata": {
        "colab": {
          "base_uri": "https://localhost:8080/"
        },
        "id": "vWg_6ht0HutN",
        "outputId": "a8ec38a1-8f5f-4244-eba0-dd1f44e54277"
      },
      "execution_count": null,
      "outputs": [
        {
          "output_type": "stream",
          "name": "stdout",
          "text": [
            "30\n"
          ]
        }
      ]
    },
    {
      "cell_type": "code",
      "source": [
        "division = A/B\n",
        "print(division)"
      ],
      "metadata": {
        "colab": {
          "base_uri": "https://localhost:8080/"
        },
        "id": "6aowZoylHyke",
        "outputId": "09f66796-d34d-4c5a-9661-f1f52ee33414"
      },
      "execution_count": null,
      "outputs": [
        {
          "output_type": "stream",
          "name": "stdout",
          "text": [
            "3.3333333333333335\n"
          ]
        }
      ]
    },
    {
      "cell_type": "code",
      "source": [
        "modulo = A%B\n",
        "print(modulo)"
      ],
      "metadata": {
        "colab": {
          "base_uri": "https://localhost:8080/"
        },
        "id": "WrlcqBP7H159",
        "outputId": "aedaa196-7711-42e6-db11-5a153d0d7b0b"
      },
      "execution_count": null,
      "outputs": [
        {
          "output_type": "stream",
          "name": "stdout",
          "text": [
            "1\n"
          ]
        }
      ]
    },
    {
      "cell_type": "code",
      "source": [
        "potencia = A**B\n",
        "print(potencia)"
      ],
      "metadata": {
        "colab": {
          "base_uri": "https://localhost:8080/"
        },
        "id": "nxmSVZT2H5ea",
        "outputId": "a85dfd27-ffbf-4374-b118-7167ab97c36d"
      },
      "execution_count": null,
      "outputs": [
        {
          "output_type": "stream",
          "name": "stdout",
          "text": [
            "1000\n"
          ]
        }
      ]
    },
    {
      "cell_type": "code",
      "source": [
        "division_entera = A//B\n",
        "print(division_entera)"
      ],
      "metadata": {
        "colab": {
          "base_uri": "https://localhost:8080/"
        },
        "id": "KpdLY_dNIBh0",
        "outputId": "eb8a9e3c-8c7a-40e1-b278-dd8fd5c1503e"
      },
      "execution_count": null,
      "outputs": [
        {
          "output_type": "stream",
          "name": "stdout",
          "text": [
            "3\n"
          ]
        }
      ]
    },
    {
      "cell_type": "markdown",
      "source": [
        "## 5. Textos o Valores String.\n",
        "\n",
        "En Python, los valores de cadena se representan por \"Str\".\n"
      ],
      "metadata": {
        "id": "w1sfvNtbmbOf"
      }
    },
    {
      "cell_type": "code",
      "source": [
        "Cadena_Simple = 'Hola, mundo'\n",
        "Cadena_Doble = \"Hola mundo\"\n",
        "Cadena_Multiple = \"\"\"Esta es\n",
        "una cadena que ocupa\n",
        "varias lineas\"\"\""
      ],
      "metadata": {
        "id": "OU2Q-bQ_nZng"
      },
      "execution_count": null,
      "outputs": []
    },
    {
      "cell_type": "code",
      "source": [
        "# Operaciones básicas con cadenas.\n",
        "\n",
        "# 1. Concatenación.\n",
        "saludo = \"Hola\"\n",
        "nombre = \"Mundo\"\n",
        "mensaje = saludo + \" , \" + nombre\n",
        "print(mensaje)"
      ],
      "metadata": {
        "colab": {
          "base_uri": "https://localhost:8080/"
        },
        "id": "KCnx58iSoYaA",
        "outputId": "74e60e85-5ef4-4d1b-e813-1e7dd30c27f4"
      },
      "execution_count": null,
      "outputs": [
        {
          "output_type": "stream",
          "name": "stdout",
          "text": [
            "Hola , Mundo\n"
          ]
        }
      ]
    },
    {
      "cell_type": "code",
      "source": [
        "# 2. Repetición.\n",
        "repetir = \"Hola\"*3\n",
        "print(repetir)\n",
        "\n",
        "repetir2 = \"Hola\"\n",
        "print(repetir2*5)"
      ],
      "metadata": {
        "colab": {
          "base_uri": "https://localhost:8080/"
        },
        "id": "bmHkNoFfos9k",
        "outputId": "e7ecd8c6-bff2-4520-9600-fa424eea4f3c"
      },
      "execution_count": null,
      "outputs": [
        {
          "output_type": "stream",
          "name": "stdout",
          "text": [
            "HolaHolaHola\n",
            "HolaHolaHolaHolaHola\n"
          ]
        }
      ]
    },
    {
      "cell_type": "code",
      "source": [
        "# 3. Indexación:\n",
        "# Acceder a caracteres individuales utilizando índices.\n",
        "\n",
        "primer_caracter = mensaje[0]\n",
        "print(primer_caracter)"
      ],
      "metadata": {
        "colab": {
          "base_uri": "https://localhost:8080/"
        },
        "id": "XflnrsnFpd0A",
        "outputId": "dffdb80a-5ef8-4820-812d-89c4bf7ea5bd"
      },
      "execution_count": null,
      "outputs": [
        {
          "output_type": "stream",
          "name": "stdout",
          "text": [
            "H\n"
          ]
        }
      ]
    },
    {
      "cell_type": "code",
      "source": [
        "# 4. Rebanado / Slicing:\n",
        "# Obtiene subcadenas utilizando una notación de rango.\n",
        "\n",
        "# Objetivo: Extraer la palabra \"Hola\" de la variable mensaje.\n",
        "sub_cadena = mensaje[0:4]\n",
        "print(sub_cadena)\n",
        "\n",
        "# Desde el caracter 0 hasta el 3, sin contar el 3.\n",
        "sub_cadena = mensaje[0:3]\n",
        "print(sub_cadena)"
      ],
      "metadata": {
        "colab": {
          "base_uri": "https://localhost:8080/"
        },
        "id": "wiHV8fFGqNCO",
        "outputId": "5ad8b135-cd17-4778-ebc5-27dd5c39742b"
      },
      "execution_count": 28,
      "outputs": [
        {
          "output_type": "stream",
          "name": "stdout",
          "text": [
            "Hola\n",
            "Hol\n"
          ]
        }
      ]
    },
    {
      "cell_type": "code",
      "source": [
        "cadena = \"Python es genial\"\n",
        "\n",
        "# Métodos de cadenas.\n",
        "\n",
        "# 1. El método upper() nos permite convertir minúsculas a mayúsculas.\n",
        "print(cadena.upper())\n",
        "\n",
        "# 2. El método lower() nos permite convertir mayúsculas a minúsculas.\n",
        "print(cadena.lower())\n",
        "\n",
        "# 3. El método strip() quita espacios al comienzo y al final.\n",
        "print(cadena.strip())\n",
        "\n",
        "# 4. El método replace() nos permite reemplazar un trozo de la cadena por otro.\n",
        "print(cadena.replace(\"genial\", \"increible\"))\n",
        "\n",
        "# 5. El método split() nos permite dividir una cadena por un caracter separador y meter las partes en una lista.\n",
        "print(cadena.split(\" \"))\n",
        "\n",
        "# 6. El método join() nos permite unir cadenas (en una lista) con un separador.\n",
        "print(\", \".join(['Python', 'es', 'genial']))"
      ],
      "metadata": {
        "colab": {
          "base_uri": "https://localhost:8080/"
        },
        "id": "o1Qkl228rYcd",
        "outputId": "20a1e455-93c1-479f-e411-6b4f0fd110db"
      },
      "execution_count": null,
      "outputs": [
        {
          "output_type": "stream",
          "name": "stdout",
          "text": [
            "PYTHON ES GENIAL\n",
            "python es genial\n",
            "Python es genial\n",
            "Python es increible\n",
            "['Python', 'es', 'genial']\n",
            "Python, es, genial\n"
          ]
        }
      ]
    },
    {
      "cell_type": "markdown",
      "source": [
        "## 6. Estructuras de Datos.\n",
        "![Captura de pantalla 2025-01-24 185822.png](data:image/png;base64,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)"
      ],
      "metadata": {
        "id": "jarkQ6Miv_fG"
      }
    },
    {
      "cell_type": "code",
      "source": [
        "# Listas:\n",
        "'''\n",
        "Las listas en Python son una de las estructuras de datos más utilizadas debido a su flexibilidad y capacidad para\n",
        "almacenar diferentes tipos de datos. Aquí te explico en detalle cómo funcionan las listas y cómo puedes utilizarlas.\n",
        "'''"
      ],
      "metadata": {
        "id": "ravD5RT5r_T6",
        "colab": {
          "base_uri": "https://localhost:8080/",
          "height": 53
        },
        "outputId": "fd582440-a308-48ea-f0b4-a9ba1751ca2c"
      },
      "execution_count": 21,
      "outputs": [
        {
          "output_type": "execute_result",
          "data": {
            "text/plain": [
              "' \\nLas listas en Python son una de las estructuras de datos más utilizadas debido a su flexibilidad y capacidad para\\nalmacenar diferentes tipos de datos. Aquí te explico en detalle cómo funcionan las listas y cómo puedes utilizarlas.\\n'"
            ],
            "application/vnd.google.colaboratory.intrinsic+json": {
              "type": "string"
            }
          },
          "metadata": {},
          "execution_count": 21
        }
      ]
    },
    {
      "cell_type": "code",
      "source": [
        "# Crear una lista vacía.\n",
        "mi_lista = []\n",
        "\n",
        "# Crear lista con elementos.\n",
        "mi_lista = [1, 2, 3, \"cuatro\", 5.0, True]\n",
        "\n",
        "# Acceder a elementos de la lista. Ejercicio: Acceder al 3er elemento de la lista (30).\n",
        "mi_lista = [10, 20, 30, 40, 50]\n",
        "print(mi_lista[2])\n",
        "\n",
        "# Acceder al último elemento. (indices, de derecha a izquierda).\n",
        "print(mi_lista[-1])\n",
        "print(mi_lista[-2])\n",
        "\n"
      ],
      "metadata": {
        "colab": {
          "base_uri": "https://localhost:8080/"
        },
        "id": "exS5ld-tzmND",
        "outputId": "a3c122ad-9db5-4722-acba-33cdd18e9813"
      },
      "execution_count": 24,
      "outputs": [
        {
          "output_type": "stream",
          "name": "stdout",
          "text": [
            "30\n",
            "50\n",
            "40\n"
          ]
        }
      ]
    },
    {
      "cell_type": "code",
      "source": [
        "# Modificación de Listas.\n",
        "\n",
        "# Cambiar en mi lista el 30 por un 1.\n",
        "mi_lista[2] = 1\n",
        "print(mi_lista)"
      ],
      "metadata": {
        "colab": {
          "base_uri": "https://localhost:8080/"
        },
        "id": "Az52QC4q00f5",
        "outputId": "f6f2fb7c-8e11-4cc3-b1aa-bbad70273fd6"
      },
      "execution_count": 29,
      "outputs": [
        {
          "output_type": "stream",
          "name": "stdout",
          "text": [
            "[10, 20, 1, 40, 50]\n"
          ]
        }
      ]
    },
    {
      "cell_type": "code",
      "source": [
        "# Agregar elementos a una Lista.\n",
        "mi_lista = [1,2,3]\n",
        "\n",
        "# Agregar un elemento al final de la lista.\n",
        "mi_lista.append(4)\n",
        "print(mi_lista)"
      ],
      "metadata": {
        "colab": {
          "base_uri": "https://localhost:8080/"
        },
        "id": "pLve7Wdz4bJT",
        "outputId": "0a28b5e6-5587-4bc4-c00a-aea67e78901a"
      },
      "execution_count": 30,
      "outputs": [
        {
          "output_type": "stream",
          "name": "stdout",
          "text": [
            "[1, 2, 3, 4]\n"
          ]
        }
      ]
    },
    {
      "cell_type": "code",
      "source": [
        "# Insertar un elemento en una posición específica.\n",
        "mi_lista.insert(1, 1.5)\n",
        "print(mi_lista)"
      ],
      "metadata": {
        "colab": {
          "base_uri": "https://localhost:8080/"
        },
        "id": "tW3fRAGf5Nk3",
        "outputId": "1e380a74-6155-46b1-f3a0-46124e7e0778"
      },
      "execution_count": 31,
      "outputs": [
        {
          "output_type": "stream",
          "name": "stdout",
          "text": [
            "[1, 1.5, 2, 3, 4]\n"
          ]
        }
      ]
    },
    {
      "cell_type": "code",
      "source": [
        "# Agregar varios elementos a una lista.\n",
        "mi_lista.extend([5, 6])\n",
        "print(mi_lista)"
      ],
      "metadata": {
        "colab": {
          "base_uri": "https://localhost:8080/"
        },
        "id": "5zIraHHS5vsK",
        "outputId": "05a1d391-7f08-45dd-8da2-c46347df1ebd"
      },
      "execution_count": 32,
      "outputs": [
        {
          "output_type": "stream",
          "name": "stdout",
          "text": [
            "[1, 1.5, 2, 3, 4, 5, 6]\n"
          ]
        }
      ]
    },
    {
      "cell_type": "code",
      "source": [
        "# Eliminar elementos de las listas (por valor)\n",
        "mi_lista.remove(1)\n",
        "print(mi_lista)"
      ],
      "metadata": {
        "colab": {
          "base_uri": "https://localhost:8080/"
        },
        "id": "GVCYFr8T6KZG",
        "outputId": "07175ec6-62e3-47ca-bc62-17f8586fa537"
      },
      "execution_count": 33,
      "outputs": [
        {
          "output_type": "stream",
          "name": "stdout",
          "text": [
            "[1.5, 2, 3, 4, 5, 6]\n"
          ]
        }
      ]
    },
    {
      "cell_type": "code",
      "source": [
        "# Eliminar elementos de las listas (por indexación)\n",
        "del mi_lista[4]\n",
        "print(mi_lista)"
      ],
      "metadata": {
        "id": "K5oLfoLh6dkZ"
      },
      "execution_count": null,
      "outputs": []
    },
    {
      "cell_type": "markdown",
      "source": [
        "## Ejercicio 1: Creación y modificación de listas."
      ],
      "metadata": {
        "id": "2Vk0-VJ49afQ"
      }
    },
    {
      "cell_type": "code",
      "source": [
        "# Crear una lista llamada números que contenga los números del 1 al 5.\n",
        "numeros = [1,2,3,4,5]"
      ],
      "metadata": {
        "id": "FrxJhWLC9eWW"
      },
      "execution_count": 36,
      "outputs": []
    },
    {
      "cell_type": "code",
      "source": [
        "# Añade el número 6 al final de la lista numeros.\n",
        "numeros.append(6)\n",
        "print(numeros)"
      ],
      "metadata": {
        "colab": {
          "base_uri": "https://localhost:8080/"
        },
        "id": "QE0MVjur96rb",
        "outputId": "e14219aa-4408-4d25-c91f-4f5a55061bb5"
      },
      "execution_count": 37,
      "outputs": [
        {
          "output_type": "stream",
          "name": "stdout",
          "text": [
            "[1, 2, 3, 4, 5, 6]\n"
          ]
        }
      ]
    },
    {
      "cell_type": "code",
      "source": [
        "# Cambia el segundo elemento de la lista numeros a 10.\n",
        "numeros[1] = 10\n",
        "print(numeros)"
      ],
      "metadata": {
        "colab": {
          "base_uri": "https://localhost:8080/"
        },
        "id": "jt5fzOVi-CTd",
        "outputId": "b41c2ef4-ba75-487f-d4fc-abdd616e9270"
      },
      "execution_count": 38,
      "outputs": [
        {
          "output_type": "stream",
          "name": "stdout",
          "text": [
            "[1, 10, 3, 4, 5, 6]\n"
          ]
        }
      ]
    },
    {
      "cell_type": "code",
      "source": [
        "# Elimina el cuarto elemento de la lista numeros.\n",
        "del numeros[3]\n",
        "print(numeros)"
      ],
      "metadata": {
        "colab": {
          "base_uri": "https://localhost:8080/"
        },
        "id": "i_UrdCtE-h45",
        "outputId": "6db9a982-5f8c-4943-f661-c2294d458d90"
      },
      "execution_count": 39,
      "outputs": [
        {
          "output_type": "stream",
          "name": "stdout",
          "text": [
            "[1, 10, 3, 5, 6]\n"
          ]
        }
      ]
    },
    {
      "cell_type": "markdown",
      "source": [
        "## Ejercicio 2: Creación de Tuplas."
      ],
      "metadata": {
        "id": "zgNAsNXL-tvh"
      }
    },
    {
      "cell_type": "code",
      "source": [
        "# Crea una tupla llamada colores que contenga los colores 'rojo', 'verde', y 'azul'\n",
        "colores = ('rojo', 'verde', 'azul')\n",
        "print(colores[0])"
      ],
      "metadata": {
        "colab": {
          "base_uri": "https://localhost:8080/"
        },
        "id": "EpWukVZU-ros",
        "outputId": "aa8bf234-2f36-4d06-c19d-57739c68f60d"
      },
      "execution_count": 40,
      "outputs": [
        {
          "output_type": "stream",
          "name": "stdout",
          "text": [
            "rojo\n"
          ]
        }
      ]
    },
    {
      "cell_type": "code",
      "source": [
        "# Diccionarios.\n",
        "'''\n",
        "En Python, los diccionarios son una estructura de datos muy versátil y útil. Son colecciones no ordenadas de\n",
        "pares clave-valor, donde cada clave es única y se asocia a un valor. Aquí te explico los aspectos básicos y\n",
        "algunas características avanzadas:\n",
        "'''"
      ],
      "metadata": {
        "colab": {
          "base_uri": "https://localhost:8080/",
          "height": 70
        },
        "id": "EcDaISyrAhAj",
        "outputId": "639e87bf-8e4d-4298-c460-1e5f0394aaac"
      },
      "execution_count": 41,
      "outputs": [
        {
          "output_type": "execute_result",
          "data": {
            "text/plain": [
              "'\\nEn Python, los diccionarios son una estructura de datos muy versátil y útil. Son colecciones no ordenadas de\\npares clave-valor, donde cada clave es única y se asocia a un valor. Aquí te explico los aspectos básicos y\\nalgunas características avanzadas:\\n'"
            ],
            "application/vnd.google.colaboratory.intrinsic+json": {
              "type": "string"
            }
          },
          "metadata": {},
          "execution_count": 41
        }
      ]
    },
    {
      "cell_type": "code",
      "source": [
        "mi_diccionario = {\n",
        "    \"nombre\":\"Ana\",\n",
        "    \"edad\":30,\n",
        "    \"ciudad\":\"Bogotá\"\n",
        "}"
      ],
      "metadata": {
        "id": "PTDeKhvJAu1Z"
      },
      "execution_count": 42,
      "outputs": []
    },
    {
      "cell_type": "code",
      "source": [
        "# Agregar elementos a un diccionario.\n",
        "inventario = {}\n",
        "inventario[\"manzanas\"] = 50\n",
        "inventario[\"naranjas\"] = 30\n",
        "print(inventario)"
      ],
      "metadata": {
        "colab": {
          "base_uri": "https://localhost:8080/"
        },
        "id": "s8TFOWmiCI71",
        "outputId": "cb93e4c6-93ea-4f8f-d87a-e0516442c684"
      },
      "execution_count": 43,
      "outputs": [
        {
          "output_type": "stream",
          "name": "stdout",
          "text": [
            "{'manzanas': 50, 'naranjas': 30}\n"
          ]
        }
      ]
    },
    {
      "cell_type": "code",
      "source": [
        "# El acceso a los elementos del diccionario, se hacen apartir del nombre del elemento.\n",
        "print(mi_diccionario[\"edad\"])"
      ],
      "metadata": {
        "colab": {
          "base_uri": "https://localhost:8080/"
        },
        "id": "z8AaBRSQCrzw",
        "outputId": "e7ea31e6-5339-4cde-e9c1-87bd55b3127c"
      },
      "execution_count": 45,
      "outputs": [
        {
          "output_type": "stream",
          "name": "stdout",
          "text": [
            "30\n"
          ]
        }
      ]
    },
    {
      "cell_type": "code",
      "source": [
        "# Modificar elementos en un diccionario.\n",
        "mi_diccionario[\"edad\"] = 31\n",
        "print(mi_diccionario)"
      ],
      "metadata": {
        "colab": {
          "base_uri": "https://localhost:8080/"
        },
        "id": "CeKRy08WDAp2",
        "outputId": "62bd9552-0ad3-448c-c11d-9bd88c988553"
      },
      "execution_count": 47,
      "outputs": [
        {
          "output_type": "stream",
          "name": "stdout",
          "text": [
            "{'nombre': 'Ana', 'edad': 31, 'ciudad': 'Bogotá'}\n"
          ]
        }
      ]
    },
    {
      "cell_type": "code",
      "source": [
        "# Eliminación de elementos del diccionario.\n",
        "del mi_diccionario[\"ciudad\"]\n",
        "print(mi_diccionario)"
      ],
      "metadata": {
        "colab": {
          "base_uri": "https://localhost:8080/"
        },
        "id": "mdK3zzFzDRSv",
        "outputId": "a09fa7ce-03c5-4006-d296-dbefe79e8fbb"
      },
      "execution_count": 48,
      "outputs": [
        {
          "output_type": "stream",
          "name": "stdout",
          "text": [
            "{'nombre': 'Ana', 'edad': 31}\n"
          ]
        }
      ]
    },
    {
      "cell_type": "code",
      "source": [],
      "metadata": {
        "id": "4ClsU-U_Dh7A"
      },
      "execution_count": null,
      "outputs": []
    }
  ]
}