{
  "nbformat": 4,
  "nbformat_minor": 0,
  "metadata": {
    "colab": {
      "provenance": [],
      "authorship_tag": "ABX9TyPkKX+sy/YO/uMkN0C9iai2",
      "include_colab_link": true
    },
    "kernelspec": {
      "name": "python3",
      "display_name": "Python 3"
    },
    "language_info": {
      "name": "python"
    }
  },
  "cells": [
    {
      "cell_type": "markdown",
      "metadata": {
        "id": "view-in-github",
        "colab_type": "text"
      },
      "source": [
        "<a href=\"https://colab.research.google.com/github/Nicohf28/DiplomadoGADIA/blob/main/Clase1_Introduccion.ipynb\" target=\"_parent\"><img src=\"https://colab.research.google.com/assets/colab-badge.svg\" alt=\"Open In Colab\"/></a>"
      ]
    },
    {
      "cell_type": "markdown",
      "source": [
        "**Introducción a Python**\n",
        "\n",
        "Diplomado en Gobierno y Analítica de Datos para Toma de decisiones Basado en Inteligencia Artificial\n",
        "\n",
        "Fundación Universitaria Cafam\n",
        "\n",
        "Docente: Nicolás Mojica Gómez\n",
        "\n",
        "Estudiante: Nicolás Hernández Flórez\n",
        "\n",
        "\n",
        "\n",
        "---\n",
        "\n"
      ],
      "metadata": {
        "id": "6dbieXn9qMgF"
      }
    },
    {
      "cell_type": "markdown",
      "source": [
        "## 1. Comentarios en los códigos.\n",
        "\n",
        "Para documentar códigos en Python, existen diferentes formas de hacer comentarios.\n",
        "\n",
        "Esto nos permite documentar nuestras secuencias de comandos para su análisis y/o posterior modificación."
      ],
      "metadata": {
        "id": "7aqAM506rrbF"
      }
    },
    {
      "cell_type": "code",
      "execution_count": 25,
      "metadata": {
        "colab": {
          "base_uri": "https://localhost:8080/"
        },
        "id": "dwdf0l-roscn",
        "outputId": "52a5e641-f6e4-4a78-c406-f7bae2b45f85"
      },
      "outputs": [
        {
          "output_type": "stream",
          "name": "stdout",
          "text": [
            "Hola mundo. \n"
          ]
        }
      ],
      "source": [
        "# Este comentario es de una sola línea.\n",
        "# Python es un lenguaje sensible a las mayúsculas y las minúsculas.\n",
        "print(\"Hola mundo. \")"
      ]
    },
    {
      "cell_type": "code",
      "source": [
        "'''\n",
        "Este comentario es de multiples líneas,\n",
        "es decir, que puede extenderse\n",
        "por varias líneas\n",
        "'''\n",
        "print(\"Hola mundo. \")"
      ],
      "metadata": {
        "colab": {
          "base_uri": "https://localhost:8080/"
        },
        "id": "nWhKdRnivptZ",
        "outputId": "4fb7133d-36da-4f70-d9fa-98fd2d7328b9"
      },
      "execution_count": 26,
      "outputs": [
        {
          "output_type": "stream",
          "name": "stdout",
          "text": [
            "Hola mundo. \n"
          ]
        }
      ]
    },
    {
      "cell_type": "markdown",
      "source": [
        "## 2. Variables.\n",
        "\n",
        "Una variable es un elemento de un lenguaje de programación que tiene asignado un valor determinado."
      ],
      "metadata": {
        "id": "WBiAbCORwSrx"
      }
    },
    {
      "cell_type": "code",
      "source": [
        "# Para crear una variable en python, se le debe proporcionar un nombre y asignarle un valor, utilizando un =\n",
        "var = \"Hola mundo. \"\n",
        "print(var)"
      ],
      "metadata": {
        "colab": {
          "base_uri": "https://localhost:8080/"
        },
        "id": "OC560iTKw2UE",
        "outputId": "2fec084d-a1bb-4442-8edb-e3182f030554"
      },
      "execution_count": 27,
      "outputs": [
        {
          "output_type": "stream",
          "name": "stdout",
          "text": [
            "Hola mundo. \n"
          ]
        }
      ]
    },
    {
      "cell_type": "code",
      "source": [
        "# Las variables pueden cambiar a lo largo del programa en python.\n",
        "var = \"Hola Mundo. \"\n",
        "print(var)\n",
        "\n",
        "var = \"Adiós Mundo. \"\n",
        "print(var)"
      ],
      "metadata": {
        "colab": {
          "base_uri": "https://localhost:8080/"
        },
        "id": "8cUcmTKnx8Op",
        "outputId": "e7e5a28a-f162-4bc2-d424-e8e2452e9fb7"
      },
      "execution_count": 28,
      "outputs": [
        {
          "output_type": "stream",
          "name": "stdout",
          "text": [
            "Hola Mundo. \n",
            "Adiós Mundo. \n"
          ]
        }
      ]
    },
    {
      "cell_type": "code",
      "source": [
        "# Las variables en Python son sensibles a las mayúsculas y a las minúsculas.\n"
      ],
      "metadata": {
        "id": "mRmklbaOyEMZ"
      },
      "execution_count": 29,
      "outputs": []
    },
    {
      "cell_type": "markdown",
      "source": [
        "## 3. Tipos de Datos.\n",
        "\n"
      ],
      "metadata": {
        "id": "JXZAFkK04p9K"
      }
    },
    {
      "cell_type": "code",
      "source": [
        "# Tipos de datos numéricos.\n",
        "\n",
        "Entero = 42\n",
        "# En la mayor parte de los lenguajes de programación, los enteros son representados con \"Int\".\n",
        "\n",
        "Flotante = 3.14151\n",
        "# Los números flotantes son aquellos que representan un número con su parte decimal (precisión doble).\n",
        "# Pueden representar números muy grandes (5,1234241341...) o números muy pequeños (0,0000000...001234).\n",
        "\n",
        "print(Entero)\n",
        "print(Flotante)"
      ],
      "metadata": {
        "colab": {
          "base_uri": "https://localhost:8080/"
        },
        "id": "eMTE9HUy5PZc",
        "outputId": "becc71b9-44e7-4d89-c834-92d212ff02c7"
      },
      "execution_count": 30,
      "outputs": [
        {
          "output_type": "stream",
          "name": "stdout",
          "text": [
            "42\n",
            "3.14151\n"
          ]
        }
      ]
    },
    {
      "cell_type": "code",
      "source": [
        "# Conversión de los Tipos de Datos.\n",
        "\n",
        "# Convertir un Flotante, a un número Entero.\n",
        "Entero = int(3.14)\n",
        "print(Entero)\n",
        "\n",
        "# Convertir un Entero, a un número Flotante.\n",
        "Flotante = float(5)\n",
        "print(Flotante)"
      ],
      "metadata": {
        "colab": {
          "base_uri": "https://localhost:8080/"
        },
        "id": "7mEWyz605r1a",
        "outputId": "877998f2-b581-4e90-e7fa-e5780e945c6b"
      },
      "execution_count": 31,
      "outputs": [
        {
          "output_type": "stream",
          "name": "stdout",
          "text": [
            "3\n",
            "5.0\n"
          ]
        }
      ]
    },
    {
      "cell_type": "markdown",
      "source": [
        "## 4. Operadores Aritméticos.\n",
        "\n",
        "Los operadores matemáticos se utilizan para realizar operaciones comunes como la suma, resta, multiplicación y división."
      ],
      "metadata": {
        "id": "xJ8YfxIv7lgG"
      }
    },
    {
      "cell_type": "code",
      "source": [
        "# Suma.\n",
        "A = 10\n",
        "B = 5\n",
        "print(A+B)\n",
        "\n",
        "C = A+B\n",
        "print(C)"
      ],
      "metadata": {
        "colab": {
          "base_uri": "https://localhost:8080/"
        },
        "id": "rlXCPPh56rBX",
        "outputId": "fd7b9224-8027-4a90-f5de-57c89716c8c4"
      },
      "execution_count": 36,
      "outputs": [
        {
          "output_type": "stream",
          "name": "stdout",
          "text": [
            "15\n",
            "15\n"
          ]
        }
      ]
    },
    {
      "cell_type": "code",
      "source": [
        "# Resta.\n",
        "C = A - B\n",
        "print(C)"
      ],
      "metadata": {
        "colab": {
          "base_uri": "https://localhost:8080/"
        },
        "id": "PmtcdG4d8F6D",
        "outputId": "6c43dfbe-42df-4ad3-f74a-cdbfe9b65494"
      },
      "execution_count": 33,
      "outputs": [
        {
          "output_type": "stream",
          "name": "stdout",
          "text": [
            "5\n"
          ]
        }
      ]
    },
    {
      "cell_type": "code",
      "source": [
        "# Multiplicación.\n",
        "D = A*B\n",
        "print(D)"
      ],
      "metadata": {
        "colab": {
          "base_uri": "https://localhost:8080/"
        },
        "id": "6r6q-srX8e--",
        "outputId": "93b04c69-8e1c-4e35-fc32-f54e2c0dc92b"
      },
      "execution_count": 34,
      "outputs": [
        {
          "output_type": "stream",
          "name": "stdout",
          "text": [
            "50\n"
          ]
        }
      ]
    },
    {
      "cell_type": "code",
      "source": [
        "# División.\n",
        "E = A/B\n",
        "print(E)"
      ],
      "metadata": {
        "colab": {
          "base_uri": "https://localhost:8080/"
        },
        "id": "tDrbdau58rc2",
        "outputId": "d382e887-036e-424f-e42e-dd758faee7e8"
      },
      "execution_count": 35,
      "outputs": [
        {
          "output_type": "stream",
          "name": "stdout",
          "text": [
            "2.0\n"
          ]
        }
      ]
    },
    {
      "cell_type": "code",
      "source": [
        "# División Entera.\n",
        "print(A//B)"
      ],
      "metadata": {
        "colab": {
          "base_uri": "https://localhost:8080/"
        },
        "id": "V-4FapAn8tdx",
        "outputId": "e989d5fb-034f-405b-f486-4a410e5048e1"
      },
      "execution_count": 37,
      "outputs": [
        {
          "output_type": "stream",
          "name": "stdout",
          "text": [
            "2\n"
          ]
        }
      ]
    },
    {
      "cell_type": "code",
      "source": [
        "# Módulo = Residuo de una operación.\n",
        "print(A%B)\n",
        "# 10/5=2, residuo = 0."
      ],
      "metadata": {
        "colab": {
          "base_uri": "https://localhost:8080/"
        },
        "id": "GzdgYOUOA7gj",
        "outputId": "0e6e5926-750f-4a37-9fa7-24116027f49e"
      },
      "execution_count": 39,
      "outputs": [
        {
          "output_type": "stream",
          "name": "stdout",
          "text": [
            "0\n"
          ]
        }
      ]
    },
    {
      "cell_type": "code",
      "source": [
        "# Exponenciación.\n",
        "print(A**B)\n",
        "# A**B = A^B"
      ],
      "metadata": {
        "colab": {
          "base_uri": "https://localhost:8080/"
        },
        "id": "WQEEhln8BPHv",
        "outputId": "0a5b9214-edac-4d7e-df59-a00a5b89fc45"
      },
      "execution_count": 40,
      "outputs": [
        {
          "output_type": "stream",
          "name": "stdout",
          "text": [
            "100000\n"
          ]
        }
      ]
    },
    {
      "cell_type": "code",
      "source": [
        "# Asignación Compuesta (Suma). Relevante para bucles y ciclos.\n",
        "A = 10\n",
        "A+=B\n",
        "print(A)\n",
        "# A = A + B"
      ],
      "metadata": {
        "colab": {
          "base_uri": "https://localhost:8080/"
        },
        "id": "xgRkR06EBl_5",
        "outputId": "439c3cc2-dfd5-4ce3-d27c-9c8a2b53c2cd"
      },
      "execution_count": 46,
      "outputs": [
        {
          "output_type": "stream",
          "name": "stdout",
          "text": [
            "15\n"
          ]
        }
      ]
    },
    {
      "cell_type": "code",
      "source": [
        "# Asignación Compuesta (Resta)\n",
        "A = 10\n",
        "A-=B\n",
        "print(A)\n",
        "# A = A - B"
      ],
      "metadata": {
        "colab": {
          "base_uri": "https://localhost:8080/"
        },
        "id": "iHPq8RZ3B2xe",
        "outputId": "f6335c29-a434-410d-f149-ac9319b4e701"
      },
      "execution_count": 48,
      "outputs": [
        {
          "output_type": "stream",
          "name": "stdout",
          "text": [
            "5\n"
          ]
        }
      ]
    },
    {
      "cell_type": "code",
      "source": [
        "# Asignación Compuesta (Multiplicación)\n",
        "A = 10\n",
        "A*=B\n",
        "print(A)\n",
        "# A = A * B"
      ],
      "metadata": {
        "colab": {
          "base_uri": "https://localhost:8080/"
        },
        "id": "CQdnF0XPCiFG",
        "outputId": "a6d20d80-195f-4b3b-b134-a68327c30d2a"
      },
      "execution_count": 49,
      "outputs": [
        {
          "output_type": "stream",
          "name": "stdout",
          "text": [
            "50\n"
          ]
        }
      ]
    },
    {
      "cell_type": "code",
      "source": [
        "# Asignación Compuesta (División)\n",
        "A = 10\n",
        "A/=B\n",
        "print(A)\n",
        "# A = A / B"
      ],
      "metadata": {
        "colab": {
          "base_uri": "https://localhost:8080/"
        },
        "id": "LRJGOdrmCsmo",
        "outputId": "ee2cf0b8-51e7-4403-b632-1c5e0be7fb94"
      },
      "execution_count": 50,
      "outputs": [
        {
          "output_type": "stream",
          "name": "stdout",
          "text": [
            "2.0\n"
          ]
        }
      ]
    },
    {
      "cell_type": "code",
      "source": [
        "# Redondeo.\n",
        "Var4 = 4.1410\n",
        "print(round(Var4, 2))\n",
        "# La función round() siver para redondear un número flotante.\n",
        "# El segundo argumento de la función round(), indica la cantidad de decimales deseados."
      ],
      "metadata": {
        "colab": {
          "base_uri": "https://localhost:8080/"
        },
        "id": "TStN88RTCz86",
        "outputId": "c401bb20-0582-4e3c-d43f-3125be6a79c9"
      },
      "execution_count": 53,
      "outputs": [
        {
          "output_type": "stream",
          "name": "stdout",
          "text": [
            "4.14\n"
          ]
        }
      ]
    },
    {
      "cell_type": "markdown",
      "source": [
        "## Taller / Ejercicio 4: Operaciones Matemáticas."
      ],
      "metadata": {
        "id": "VcVxuBGqGur3"
      }
    },
    {
      "cell_type": "code",
      "source": [
        "# Modificación."
      ],
      "metadata": {
        "id": "IGYA2AcWDNWT"
      },
      "execution_count": 55,
      "outputs": []
    },
    {
      "cell_type": "code",
      "source": [],
      "metadata": {
        "id": "SE_gNUntGqJC"
      },
      "execution_count": null,
      "outputs": []
    }
  ]
}